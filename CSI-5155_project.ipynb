{
 "cells": [
  {
   "cell_type": "markdown",
   "metadata": {},
   "source": [
    "## Imports"
   ]
  },
  {
   "cell_type": "code",
   "execution_count": 1,
   "metadata": {
    "ExecuteTime": {
     "end_time": "2020-11-29T18:52:00.774618Z",
     "start_time": "2020-11-29T18:51:47.967852Z"
    }
   },
   "outputs": [],
   "source": [
    "import pandas as pd\n",
    "import numpy as np\n",
    "import seaborn as sns\n",
    "import matplotlib.pyplot as plt\n",
    "import collections\n",
    "from sklearn.impute import SimpleImputer\n",
    "from sklearn.preprocessing import LabelEncoder\n",
    "from IPython.display import display\n",
    "pd.options.display.max_columns = None\n",
    "%matplotlib inline"
   ]
  },
  {
   "cell_type": "markdown",
   "metadata": {},
   "source": [
    "## Opening file"
   ]
  },
  {
   "cell_type": "code",
   "execution_count": 2,
   "metadata": {
    "ExecuteTime": {
     "end_time": "2020-11-29T18:52:01.775253Z",
     "start_time": "2020-11-29T18:52:00.776615Z"
    }
   },
   "outputs": [
    {
     "data": {
      "text/html": [
       "<div>\n",
       "<style scoped>\n",
       "    .dataframe tbody tr th:only-of-type {\n",
       "        vertical-align: middle;\n",
       "    }\n",
       "\n",
       "    .dataframe tbody tr th {\n",
       "        vertical-align: top;\n",
       "    }\n",
       "\n",
       "    .dataframe thead th {\n",
       "        text-align: right;\n",
       "    }\n",
       "</style>\n",
       "<table border=\"1\" class=\"dataframe\">\n",
       "  <thead>\n",
       "    <tr style=\"text-align: right;\">\n",
       "      <th></th>\n",
       "      <th>encounter_id</th>\n",
       "      <th>patient_nbr</th>\n",
       "      <th>race</th>\n",
       "      <th>gender</th>\n",
       "      <th>age</th>\n",
       "      <th>weight</th>\n",
       "      <th>admission_type_id</th>\n",
       "      <th>discharge_disposition_id</th>\n",
       "      <th>admission_source_id</th>\n",
       "      <th>time_in_hospital</th>\n",
       "      <th>payer_code</th>\n",
       "      <th>medical_specialty</th>\n",
       "      <th>num_lab_procedures</th>\n",
       "      <th>num_procedures</th>\n",
       "      <th>num_medications</th>\n",
       "      <th>number_outpatient</th>\n",
       "      <th>number_emergency</th>\n",
       "      <th>number_inpatient</th>\n",
       "      <th>diag_1</th>\n",
       "      <th>diag_2</th>\n",
       "      <th>diag_3</th>\n",
       "      <th>number_diagnoses</th>\n",
       "      <th>max_glu_serum</th>\n",
       "      <th>A1Cresult</th>\n",
       "      <th>metformin</th>\n",
       "      <th>repaglinide</th>\n",
       "      <th>nateglinide</th>\n",
       "      <th>chlorpropamide</th>\n",
       "      <th>glimepiride</th>\n",
       "      <th>acetohexamide</th>\n",
       "      <th>glipizide</th>\n",
       "      <th>glyburide</th>\n",
       "      <th>tolbutamide</th>\n",
       "      <th>pioglitazone</th>\n",
       "      <th>rosiglitazone</th>\n",
       "      <th>acarbose</th>\n",
       "      <th>miglitol</th>\n",
       "      <th>troglitazone</th>\n",
       "      <th>tolazamide</th>\n",
       "      <th>examide</th>\n",
       "      <th>citoglipton</th>\n",
       "      <th>insulin</th>\n",
       "      <th>glyburide-metformin</th>\n",
       "      <th>glipizide-metformin</th>\n",
       "      <th>glimepiride-pioglitazone</th>\n",
       "      <th>metformin-rosiglitazone</th>\n",
       "      <th>metformin-pioglitazone</th>\n",
       "      <th>change</th>\n",
       "      <th>diabetesMed</th>\n",
       "      <th>readmitted</th>\n",
       "    </tr>\n",
       "  </thead>\n",
       "  <tbody>\n",
       "    <tr>\n",
       "      <th>0</th>\n",
       "      <td>2278392</td>\n",
       "      <td>8222157</td>\n",
       "      <td>Caucasian</td>\n",
       "      <td>Female</td>\n",
       "      <td>[0-10)</td>\n",
       "      <td>?</td>\n",
       "      <td>6</td>\n",
       "      <td>25</td>\n",
       "      <td>1</td>\n",
       "      <td>1</td>\n",
       "      <td>?</td>\n",
       "      <td>Pediatrics-Endocrinology</td>\n",
       "      <td>41</td>\n",
       "      <td>0</td>\n",
       "      <td>1</td>\n",
       "      <td>0</td>\n",
       "      <td>0</td>\n",
       "      <td>0</td>\n",
       "      <td>250.83</td>\n",
       "      <td>?</td>\n",
       "      <td>?</td>\n",
       "      <td>1</td>\n",
       "      <td>None</td>\n",
       "      <td>None</td>\n",
       "      <td>No</td>\n",
       "      <td>No</td>\n",
       "      <td>No</td>\n",
       "      <td>No</td>\n",
       "      <td>No</td>\n",
       "      <td>No</td>\n",
       "      <td>No</td>\n",
       "      <td>No</td>\n",
       "      <td>No</td>\n",
       "      <td>No</td>\n",
       "      <td>No</td>\n",
       "      <td>No</td>\n",
       "      <td>No</td>\n",
       "      <td>No</td>\n",
       "      <td>No</td>\n",
       "      <td>No</td>\n",
       "      <td>No</td>\n",
       "      <td>No</td>\n",
       "      <td>No</td>\n",
       "      <td>No</td>\n",
       "      <td>No</td>\n",
       "      <td>No</td>\n",
       "      <td>No</td>\n",
       "      <td>No</td>\n",
       "      <td>No</td>\n",
       "      <td>NO</td>\n",
       "    </tr>\n",
       "    <tr>\n",
       "      <th>1</th>\n",
       "      <td>149190</td>\n",
       "      <td>55629189</td>\n",
       "      <td>Caucasian</td>\n",
       "      <td>Female</td>\n",
       "      <td>[10-20)</td>\n",
       "      <td>?</td>\n",
       "      <td>1</td>\n",
       "      <td>1</td>\n",
       "      <td>7</td>\n",
       "      <td>3</td>\n",
       "      <td>?</td>\n",
       "      <td>?</td>\n",
       "      <td>59</td>\n",
       "      <td>0</td>\n",
       "      <td>18</td>\n",
       "      <td>0</td>\n",
       "      <td>0</td>\n",
       "      <td>0</td>\n",
       "      <td>276</td>\n",
       "      <td>250.01</td>\n",
       "      <td>255</td>\n",
       "      <td>9</td>\n",
       "      <td>None</td>\n",
       "      <td>None</td>\n",
       "      <td>No</td>\n",
       "      <td>No</td>\n",
       "      <td>No</td>\n",
       "      <td>No</td>\n",
       "      <td>No</td>\n",
       "      <td>No</td>\n",
       "      <td>No</td>\n",
       "      <td>No</td>\n",
       "      <td>No</td>\n",
       "      <td>No</td>\n",
       "      <td>No</td>\n",
       "      <td>No</td>\n",
       "      <td>No</td>\n",
       "      <td>No</td>\n",
       "      <td>No</td>\n",
       "      <td>No</td>\n",
       "      <td>No</td>\n",
       "      <td>Up</td>\n",
       "      <td>No</td>\n",
       "      <td>No</td>\n",
       "      <td>No</td>\n",
       "      <td>No</td>\n",
       "      <td>No</td>\n",
       "      <td>Ch</td>\n",
       "      <td>Yes</td>\n",
       "      <td>&gt;30</td>\n",
       "    </tr>\n",
       "    <tr>\n",
       "      <th>2</th>\n",
       "      <td>64410</td>\n",
       "      <td>86047875</td>\n",
       "      <td>AfricanAmerican</td>\n",
       "      <td>Female</td>\n",
       "      <td>[20-30)</td>\n",
       "      <td>?</td>\n",
       "      <td>1</td>\n",
       "      <td>1</td>\n",
       "      <td>7</td>\n",
       "      <td>2</td>\n",
       "      <td>?</td>\n",
       "      <td>?</td>\n",
       "      <td>11</td>\n",
       "      <td>5</td>\n",
       "      <td>13</td>\n",
       "      <td>2</td>\n",
       "      <td>0</td>\n",
       "      <td>1</td>\n",
       "      <td>648</td>\n",
       "      <td>250</td>\n",
       "      <td>V27</td>\n",
       "      <td>6</td>\n",
       "      <td>None</td>\n",
       "      <td>None</td>\n",
       "      <td>No</td>\n",
       "      <td>No</td>\n",
       "      <td>No</td>\n",
       "      <td>No</td>\n",
       "      <td>No</td>\n",
       "      <td>No</td>\n",
       "      <td>Steady</td>\n",
       "      <td>No</td>\n",
       "      <td>No</td>\n",
       "      <td>No</td>\n",
       "      <td>No</td>\n",
       "      <td>No</td>\n",
       "      <td>No</td>\n",
       "      <td>No</td>\n",
       "      <td>No</td>\n",
       "      <td>No</td>\n",
       "      <td>No</td>\n",
       "      <td>No</td>\n",
       "      <td>No</td>\n",
       "      <td>No</td>\n",
       "      <td>No</td>\n",
       "      <td>No</td>\n",
       "      <td>No</td>\n",
       "      <td>No</td>\n",
       "      <td>Yes</td>\n",
       "      <td>NO</td>\n",
       "    </tr>\n",
       "    <tr>\n",
       "      <th>3</th>\n",
       "      <td>500364</td>\n",
       "      <td>82442376</td>\n",
       "      <td>Caucasian</td>\n",
       "      <td>Male</td>\n",
       "      <td>[30-40)</td>\n",
       "      <td>?</td>\n",
       "      <td>1</td>\n",
       "      <td>1</td>\n",
       "      <td>7</td>\n",
       "      <td>2</td>\n",
       "      <td>?</td>\n",
       "      <td>?</td>\n",
       "      <td>44</td>\n",
       "      <td>1</td>\n",
       "      <td>16</td>\n",
       "      <td>0</td>\n",
       "      <td>0</td>\n",
       "      <td>0</td>\n",
       "      <td>8</td>\n",
       "      <td>250.43</td>\n",
       "      <td>403</td>\n",
       "      <td>7</td>\n",
       "      <td>None</td>\n",
       "      <td>None</td>\n",
       "      <td>No</td>\n",
       "      <td>No</td>\n",
       "      <td>No</td>\n",
       "      <td>No</td>\n",
       "      <td>No</td>\n",
       "      <td>No</td>\n",
       "      <td>No</td>\n",
       "      <td>No</td>\n",
       "      <td>No</td>\n",
       "      <td>No</td>\n",
       "      <td>No</td>\n",
       "      <td>No</td>\n",
       "      <td>No</td>\n",
       "      <td>No</td>\n",
       "      <td>No</td>\n",
       "      <td>No</td>\n",
       "      <td>No</td>\n",
       "      <td>Up</td>\n",
       "      <td>No</td>\n",
       "      <td>No</td>\n",
       "      <td>No</td>\n",
       "      <td>No</td>\n",
       "      <td>No</td>\n",
       "      <td>Ch</td>\n",
       "      <td>Yes</td>\n",
       "      <td>NO</td>\n",
       "    </tr>\n",
       "    <tr>\n",
       "      <th>4</th>\n",
       "      <td>16680</td>\n",
       "      <td>42519267</td>\n",
       "      <td>Caucasian</td>\n",
       "      <td>Male</td>\n",
       "      <td>[40-50)</td>\n",
       "      <td>?</td>\n",
       "      <td>1</td>\n",
       "      <td>1</td>\n",
       "      <td>7</td>\n",
       "      <td>1</td>\n",
       "      <td>?</td>\n",
       "      <td>?</td>\n",
       "      <td>51</td>\n",
       "      <td>0</td>\n",
       "      <td>8</td>\n",
       "      <td>0</td>\n",
       "      <td>0</td>\n",
       "      <td>0</td>\n",
       "      <td>197</td>\n",
       "      <td>157</td>\n",
       "      <td>250</td>\n",
       "      <td>5</td>\n",
       "      <td>None</td>\n",
       "      <td>None</td>\n",
       "      <td>No</td>\n",
       "      <td>No</td>\n",
       "      <td>No</td>\n",
       "      <td>No</td>\n",
       "      <td>No</td>\n",
       "      <td>No</td>\n",
       "      <td>Steady</td>\n",
       "      <td>No</td>\n",
       "      <td>No</td>\n",
       "      <td>No</td>\n",
       "      <td>No</td>\n",
       "      <td>No</td>\n",
       "      <td>No</td>\n",
       "      <td>No</td>\n",
       "      <td>No</td>\n",
       "      <td>No</td>\n",
       "      <td>No</td>\n",
       "      <td>Steady</td>\n",
       "      <td>No</td>\n",
       "      <td>No</td>\n",
       "      <td>No</td>\n",
       "      <td>No</td>\n",
       "      <td>No</td>\n",
       "      <td>Ch</td>\n",
       "      <td>Yes</td>\n",
       "      <td>NO</td>\n",
       "    </tr>\n",
       "  </tbody>\n",
       "</table>\n",
       "</div>"
      ],
      "text/plain": [
       "   encounter_id  patient_nbr             race  gender      age weight  \\\n",
       "0       2278392      8222157        Caucasian  Female   [0-10)      ?   \n",
       "1        149190     55629189        Caucasian  Female  [10-20)      ?   \n",
       "2         64410     86047875  AfricanAmerican  Female  [20-30)      ?   \n",
       "3        500364     82442376        Caucasian    Male  [30-40)      ?   \n",
       "4         16680     42519267        Caucasian    Male  [40-50)      ?   \n",
       "\n",
       "   admission_type_id  discharge_disposition_id  admission_source_id  \\\n",
       "0                  6                        25                    1   \n",
       "1                  1                         1                    7   \n",
       "2                  1                         1                    7   \n",
       "3                  1                         1                    7   \n",
       "4                  1                         1                    7   \n",
       "\n",
       "   time_in_hospital payer_code         medical_specialty  num_lab_procedures  \\\n",
       "0                 1          ?  Pediatrics-Endocrinology                  41   \n",
       "1                 3          ?                         ?                  59   \n",
       "2                 2          ?                         ?                  11   \n",
       "3                 2          ?                         ?                  44   \n",
       "4                 1          ?                         ?                  51   \n",
       "\n",
       "   num_procedures  num_medications  number_outpatient  number_emergency  \\\n",
       "0               0                1                  0                 0   \n",
       "1               0               18                  0                 0   \n",
       "2               5               13                  2                 0   \n",
       "3               1               16                  0                 0   \n",
       "4               0                8                  0                 0   \n",
       "\n",
       "   number_inpatient  diag_1  diag_2 diag_3  number_diagnoses max_glu_serum  \\\n",
       "0                 0  250.83       ?      ?                 1          None   \n",
       "1                 0     276  250.01    255                 9          None   \n",
       "2                 1     648     250    V27                 6          None   \n",
       "3                 0       8  250.43    403                 7          None   \n",
       "4                 0     197     157    250                 5          None   \n",
       "\n",
       "  A1Cresult metformin repaglinide nateglinide chlorpropamide glimepiride  \\\n",
       "0      None        No          No          No             No          No   \n",
       "1      None        No          No          No             No          No   \n",
       "2      None        No          No          No             No          No   \n",
       "3      None        No          No          No             No          No   \n",
       "4      None        No          No          No             No          No   \n",
       "\n",
       "  acetohexamide glipizide glyburide tolbutamide pioglitazone rosiglitazone  \\\n",
       "0            No        No        No          No           No            No   \n",
       "1            No        No        No          No           No            No   \n",
       "2            No    Steady        No          No           No            No   \n",
       "3            No        No        No          No           No            No   \n",
       "4            No    Steady        No          No           No            No   \n",
       "\n",
       "  acarbose miglitol troglitazone tolazamide examide citoglipton insulin  \\\n",
       "0       No       No           No         No      No          No      No   \n",
       "1       No       No           No         No      No          No      Up   \n",
       "2       No       No           No         No      No          No      No   \n",
       "3       No       No           No         No      No          No      Up   \n",
       "4       No       No           No         No      No          No  Steady   \n",
       "\n",
       "  glyburide-metformin glipizide-metformin glimepiride-pioglitazone  \\\n",
       "0                  No                  No                       No   \n",
       "1                  No                  No                       No   \n",
       "2                  No                  No                       No   \n",
       "3                  No                  No                       No   \n",
       "4                  No                  No                       No   \n",
       "\n",
       "  metformin-rosiglitazone metformin-pioglitazone change diabetesMed readmitted  \n",
       "0                      No                     No     No          No         NO  \n",
       "1                      No                     No     Ch         Yes        >30  \n",
       "2                      No                     No     No         Yes         NO  \n",
       "3                      No                     No     Ch         Yes         NO  \n",
       "4                      No                     No     Ch         Yes         NO  "
      ]
     },
     "execution_count": 2,
     "metadata": {},
     "output_type": "execute_result"
    }
   ],
   "source": [
    "df = pd.read_csv('diabetic_data.csv')\n",
    "df.head()"
   ]
  },
  {
   "cell_type": "markdown",
   "metadata": {},
   "source": [
    "## Data set exploration"
   ]
  },
  {
   "cell_type": "code",
   "execution_count": 3,
   "metadata": {
    "ExecuteTime": {
     "end_time": "2020-11-29T18:52:02.028101Z",
     "start_time": "2020-11-29T18:52:01.778245Z"
    }
   },
   "outputs": [
    {
     "name": "stdout",
     "output_type": "stream",
     "text": [
      "<class 'pandas.core.frame.DataFrame'>\n",
      "RangeIndex: 101766 entries, 0 to 101765\n",
      "Data columns (total 50 columns):\n",
      " #   Column                    Non-Null Count   Dtype \n",
      "---  ------                    --------------   ----- \n",
      " 0   encounter_id              101766 non-null  int64 \n",
      " 1   patient_nbr               101766 non-null  int64 \n",
      " 2   race                      101766 non-null  object\n",
      " 3   gender                    101766 non-null  object\n",
      " 4   age                       101766 non-null  object\n",
      " 5   weight                    101766 non-null  object\n",
      " 6   admission_type_id         101766 non-null  int64 \n",
      " 7   discharge_disposition_id  101766 non-null  int64 \n",
      " 8   admission_source_id       101766 non-null  int64 \n",
      " 9   time_in_hospital          101766 non-null  int64 \n",
      " 10  payer_code                101766 non-null  object\n",
      " 11  medical_specialty         101766 non-null  object\n",
      " 12  num_lab_procedures        101766 non-null  int64 \n",
      " 13  num_procedures            101766 non-null  int64 \n",
      " 14  num_medications           101766 non-null  int64 \n",
      " 15  number_outpatient         101766 non-null  int64 \n",
      " 16  number_emergency          101766 non-null  int64 \n",
      " 17  number_inpatient          101766 non-null  int64 \n",
      " 18  diag_1                    101766 non-null  object\n",
      " 19  diag_2                    101766 non-null  object\n",
      " 20  diag_3                    101766 non-null  object\n",
      " 21  number_diagnoses          101766 non-null  int64 \n",
      " 22  max_glu_serum             101766 non-null  object\n",
      " 23  A1Cresult                 101766 non-null  object\n",
      " 24  metformin                 101766 non-null  object\n",
      " 25  repaglinide               101766 non-null  object\n",
      " 26  nateglinide               101766 non-null  object\n",
      " 27  chlorpropamide            101766 non-null  object\n",
      " 28  glimepiride               101766 non-null  object\n",
      " 29  acetohexamide             101766 non-null  object\n",
      " 30  glipizide                 101766 non-null  object\n",
      " 31  glyburide                 101766 non-null  object\n",
      " 32  tolbutamide               101766 non-null  object\n",
      " 33  pioglitazone              101766 non-null  object\n",
      " 34  rosiglitazone             101766 non-null  object\n",
      " 35  acarbose                  101766 non-null  object\n",
      " 36  miglitol                  101766 non-null  object\n",
      " 37  troglitazone              101766 non-null  object\n",
      " 38  tolazamide                101766 non-null  object\n",
      " 39  examide                   101766 non-null  object\n",
      " 40  citoglipton               101766 non-null  object\n",
      " 41  insulin                   101766 non-null  object\n",
      " 42  glyburide-metformin       101766 non-null  object\n",
      " 43  glipizide-metformin       101766 non-null  object\n",
      " 44  glimepiride-pioglitazone  101766 non-null  object\n",
      " 45  metformin-rosiglitazone   101766 non-null  object\n",
      " 46  metformin-pioglitazone    101766 non-null  object\n",
      " 47  change                    101766 non-null  object\n",
      " 48  diabetesMed               101766 non-null  object\n",
      " 49  readmitted                101766 non-null  object\n",
      "dtypes: int64(13), object(37)\n",
      "memory usage: 38.8+ MB\n"
     ]
    }
   ],
   "source": [
    "df.info()"
   ]
  },
  {
   "cell_type": "markdown",
   "metadata": {},
   "source": [
    "### Handling duplicate patients"
   ]
  },
  {
   "cell_type": "code",
   "execution_count": 4,
   "metadata": {
    "ExecuteTime": {
     "end_time": "2020-11-29T18:52:02.106056Z",
     "start_time": "2020-11-29T18:52:02.030100Z"
    }
   },
   "outputs": [],
   "source": [
    "def sort_df(df, column_idx, key):\n",
    "    '''Takes a dataframe, a column index and a custom function for sorting, \n",
    "    returns a dataframe sorted by that column using that function'''\n",
    "\n",
    "    col = df.loc[:,column_idx]\n",
    "    df = df.loc[[i[1] for i in sorted(zip(col,range(len(col))), key=key)]]\n",
    "    return df"
   ]
  },
  {
   "cell_type": "code",
   "execution_count": 5,
   "metadata": {
    "ExecuteTime": {
     "end_time": "2020-11-29T18:52:02.280267Z",
     "start_time": "2020-11-29T18:52:02.110054Z"
    }
   },
   "outputs": [],
   "source": [
    "cmp = lambda x:2 if '>30' in x else 1 if '<30' in x else 0"
   ]
  },
  {
   "cell_type": "code",
   "execution_count": 6,
   "metadata": {
    "ExecuteTime": {
     "end_time": "2020-11-29T18:52:02.673985Z",
     "start_time": "2020-11-29T18:52:02.282220Z"
    }
   },
   "outputs": [],
   "source": [
    "df = sort_df(df,'readmitted',cmp).drop_duplicates('patient_nbr')"
   ]
  },
  {
   "cell_type": "code",
   "execution_count": 7,
   "metadata": {
    "ExecuteTime": {
     "end_time": "2020-11-29T18:52:02.784920Z",
     "start_time": "2020-11-29T18:52:02.677983Z"
    }
   },
   "outputs": [
    {
     "data": {
      "text/html": [
       "<div>\n",
       "<style scoped>\n",
       "    .dataframe tbody tr th:only-of-type {\n",
       "        vertical-align: middle;\n",
       "    }\n",
       "\n",
       "    .dataframe tbody tr th {\n",
       "        vertical-align: top;\n",
       "    }\n",
       "\n",
       "    .dataframe thead th {\n",
       "        text-align: right;\n",
       "    }\n",
       "</style>\n",
       "<table border=\"1\" class=\"dataframe\">\n",
       "  <thead>\n",
       "    <tr style=\"text-align: right;\">\n",
       "      <th></th>\n",
       "      <th>encounter_id</th>\n",
       "      <th>patient_nbr</th>\n",
       "      <th>admission_type_id</th>\n",
       "      <th>discharge_disposition_id</th>\n",
       "      <th>admission_source_id</th>\n",
       "      <th>time_in_hospital</th>\n",
       "      <th>num_lab_procedures</th>\n",
       "      <th>num_procedures</th>\n",
       "      <th>num_medications</th>\n",
       "      <th>number_outpatient</th>\n",
       "      <th>number_emergency</th>\n",
       "      <th>number_inpatient</th>\n",
       "      <th>number_diagnoses</th>\n",
       "    </tr>\n",
       "  </thead>\n",
       "  <tbody>\n",
       "    <tr>\n",
       "      <th>count</th>\n",
       "      <td>7.151800e+04</td>\n",
       "      <td>7.151800e+04</td>\n",
       "      <td>71518.000000</td>\n",
       "      <td>71518.000000</td>\n",
       "      <td>71518.000000</td>\n",
       "      <td>71518.000000</td>\n",
       "      <td>71518.000000</td>\n",
       "      <td>71518.000000</td>\n",
       "      <td>71518.000000</td>\n",
       "      <td>71518.000000</td>\n",
       "      <td>71518.000000</td>\n",
       "      <td>71518.000000</td>\n",
       "      <td>71518.000000</td>\n",
       "    </tr>\n",
       "    <tr>\n",
       "      <th>mean</th>\n",
       "      <td>1.655719e+08</td>\n",
       "      <td>5.505160e+07</td>\n",
       "      <td>2.068528</td>\n",
       "      <td>3.623130</td>\n",
       "      <td>5.698356</td>\n",
       "      <td>4.310244</td>\n",
       "      <td>43.280153</td>\n",
       "      <td>1.405031</td>\n",
       "      <td>15.828966</td>\n",
       "      <td>0.312467</td>\n",
       "      <td>0.129156</td>\n",
       "      <td>0.403507</td>\n",
       "      <td>7.314858</td>\n",
       "    </tr>\n",
       "    <tr>\n",
       "      <th>std</th>\n",
       "      <td>1.047863e+08</td>\n",
       "      <td>3.947573e+07</td>\n",
       "      <td>1.486299</td>\n",
       "      <td>5.169046</td>\n",
       "      <td>4.137826</td>\n",
       "      <td>2.974873</td>\n",
       "      <td>19.886911</td>\n",
       "      <td>1.741099</td>\n",
       "      <td>8.296149</td>\n",
       "      <td>1.125190</td>\n",
       "      <td>0.645424</td>\n",
       "      <td>0.906662</td>\n",
       "      <td>1.978003</td>\n",
       "    </tr>\n",
       "    <tr>\n",
       "      <th>min</th>\n",
       "      <td>1.252200e+04</td>\n",
       "      <td>1.350000e+02</td>\n",
       "      <td>1.000000</td>\n",
       "      <td>1.000000</td>\n",
       "      <td>1.000000</td>\n",
       "      <td>1.000000</td>\n",
       "      <td>1.000000</td>\n",
       "      <td>0.000000</td>\n",
       "      <td>1.000000</td>\n",
       "      <td>0.000000</td>\n",
       "      <td>0.000000</td>\n",
       "      <td>0.000000</td>\n",
       "      <td>1.000000</td>\n",
       "    </tr>\n",
       "    <tr>\n",
       "      <th>25%</th>\n",
       "      <td>8.437196e+07</td>\n",
       "      <td>2.337577e+07</td>\n",
       "      <td>1.000000</td>\n",
       "      <td>1.000000</td>\n",
       "      <td>1.000000</td>\n",
       "      <td>2.000000</td>\n",
       "      <td>31.000000</td>\n",
       "      <td>0.000000</td>\n",
       "      <td>10.000000</td>\n",
       "      <td>0.000000</td>\n",
       "      <td>0.000000</td>\n",
       "      <td>0.000000</td>\n",
       "      <td>6.000000</td>\n",
       "    </tr>\n",
       "    <tr>\n",
       "      <th>50%</th>\n",
       "      <td>1.497689e+08</td>\n",
       "      <td>4.816680e+07</td>\n",
       "      <td>1.000000</td>\n",
       "      <td>1.000000</td>\n",
       "      <td>7.000000</td>\n",
       "      <td>4.000000</td>\n",
       "      <td>44.000000</td>\n",
       "      <td>1.000000</td>\n",
       "      <td>14.000000</td>\n",
       "      <td>0.000000</td>\n",
       "      <td>0.000000</td>\n",
       "      <td>0.000000</td>\n",
       "      <td>8.000000</td>\n",
       "    </tr>\n",
       "    <tr>\n",
       "      <th>75%</th>\n",
       "      <td>2.331715e+08</td>\n",
       "      <td>8.752222e+07</td>\n",
       "      <td>3.000000</td>\n",
       "      <td>3.000000</td>\n",
       "      <td>7.000000</td>\n",
       "      <td>6.000000</td>\n",
       "      <td>57.000000</td>\n",
       "      <td>2.000000</td>\n",
       "      <td>20.000000</td>\n",
       "      <td>0.000000</td>\n",
       "      <td>0.000000</td>\n",
       "      <td>0.000000</td>\n",
       "      <td>9.000000</td>\n",
       "    </tr>\n",
       "    <tr>\n",
       "      <th>max</th>\n",
       "      <td>4.438672e+08</td>\n",
       "      <td>1.895026e+08</td>\n",
       "      <td>8.000000</td>\n",
       "      <td>28.000000</td>\n",
       "      <td>25.000000</td>\n",
       "      <td>14.000000</td>\n",
       "      <td>126.000000</td>\n",
       "      <td>6.000000</td>\n",
       "      <td>81.000000</td>\n",
       "      <td>40.000000</td>\n",
       "      <td>64.000000</td>\n",
       "      <td>16.000000</td>\n",
       "      <td>16.000000</td>\n",
       "    </tr>\n",
       "  </tbody>\n",
       "</table>\n",
       "</div>"
      ],
      "text/plain": [
       "       encounter_id   patient_nbr  admission_type_id  \\\n",
       "count  7.151800e+04  7.151800e+04       71518.000000   \n",
       "mean   1.655719e+08  5.505160e+07           2.068528   \n",
       "std    1.047863e+08  3.947573e+07           1.486299   \n",
       "min    1.252200e+04  1.350000e+02           1.000000   \n",
       "25%    8.437196e+07  2.337577e+07           1.000000   \n",
       "50%    1.497689e+08  4.816680e+07           1.000000   \n",
       "75%    2.331715e+08  8.752222e+07           3.000000   \n",
       "max    4.438672e+08  1.895026e+08           8.000000   \n",
       "\n",
       "       discharge_disposition_id  admission_source_id  time_in_hospital  \\\n",
       "count              71518.000000         71518.000000      71518.000000   \n",
       "mean                   3.623130             5.698356          4.310244   \n",
       "std                    5.169046             4.137826          2.974873   \n",
       "min                    1.000000             1.000000          1.000000   \n",
       "25%                    1.000000             1.000000          2.000000   \n",
       "50%                    1.000000             7.000000          4.000000   \n",
       "75%                    3.000000             7.000000          6.000000   \n",
       "max                   28.000000            25.000000         14.000000   \n",
       "\n",
       "       num_lab_procedures  num_procedures  num_medications  number_outpatient  \\\n",
       "count        71518.000000    71518.000000     71518.000000       71518.000000   \n",
       "mean            43.280153        1.405031        15.828966           0.312467   \n",
       "std             19.886911        1.741099         8.296149           1.125190   \n",
       "min              1.000000        0.000000         1.000000           0.000000   \n",
       "25%             31.000000        0.000000        10.000000           0.000000   \n",
       "50%             44.000000        1.000000        14.000000           0.000000   \n",
       "75%             57.000000        2.000000        20.000000           0.000000   \n",
       "max            126.000000        6.000000        81.000000          40.000000   \n",
       "\n",
       "       number_emergency  number_inpatient  number_diagnoses  \n",
       "count      71518.000000      71518.000000      71518.000000  \n",
       "mean           0.129156          0.403507          7.314858  \n",
       "std            0.645424          0.906662          1.978003  \n",
       "min            0.000000          0.000000          1.000000  \n",
       "25%            0.000000          0.000000          6.000000  \n",
       "50%            0.000000          0.000000          8.000000  \n",
       "75%            0.000000          0.000000          9.000000  \n",
       "max           64.000000         16.000000         16.000000  "
      ]
     },
     "execution_count": 7,
     "metadata": {},
     "output_type": "execute_result"
    }
   ],
   "source": [
    "df.describe()"
   ]
  },
  {
   "cell_type": "code",
   "execution_count": 8,
   "metadata": {
    "ExecuteTime": {
     "end_time": "2020-11-29T18:52:03.414556Z",
     "start_time": "2020-11-29T18:52:02.787920Z"
    }
   },
   "outputs": [
    {
     "data": {
      "image/png": "[encoded data removed]",
      "text/plain": [
       "<Figure size 1080x936 with 2 Axes>"
      ]
     },
     "metadata": {},
     "output_type": "display_data"
    }
   ],
   "source": [
    "# Correlation heatmap\n",
    "\n",
    "plt.figure(figsize=(15,13))\n",
    "sns.heatmap(df.corr())\n",
    "plt.show()"
   ]
  },
  {
   "cell_type": "code",
   "execution_count": 9,
   "metadata": {
    "ExecuteTime": {
     "end_time": "2020-11-29T18:52:03.683401Z",
     "start_time": "2020-11-29T18:52:03.417554Z"
    }
   },
   "outputs": [
    {
     "name": "stdout",
     "output_type": "stream",
     "text": [
      "Counter({'NO': 54820, '>30': 12424, '<30': 4274})\n"
     ]
    },
    {
     "data": {
      "text/plain": [
       "<matplotlib.axes._subplots.AxesSubplot at 0x280e9f4f898>"
      ]
     },
     "execution_count": 9,
     "metadata": {},
     "output_type": "execute_result"
    },
    {
     "data": {
      "image/png": "[encoded data removed]",
      "text/plain": [
       "<Figure size 432x288 with 1 Axes>"
      ]
     },
     "metadata": {},
     "output_type": "display_data"
    }
   ],
   "source": [
    "# Visualizing classes\n",
    "print(collections.Counter(df['readmitted']))\n",
    "sns.countplot(df['readmitted'])"
   ]
  },
  {
   "cell_type": "markdown",
   "metadata": {},
   "source": [
    "# Part A"
   ]
  },
  {
   "cell_type": "markdown",
   "metadata": {},
   "source": [
    "### Missing values exploration"
   ]
  },
  {
   "cell_type": "code",
   "execution_count": 10,
   "metadata": {
    "ExecuteTime": {
     "end_time": "2020-11-29T18:52:03.934256Z",
     "start_time": "2020-11-29T18:52:03.685401Z"
    }
   },
   "outputs": [
    {
     "name": "stdout",
     "output_type": "stream",
     "text": [
      "# of Rows, # of Columns:  (71518, 49)\n",
      "\n",
      "Column Name           # of Missing Values\n",
      "\n",
      "encounter_id                    0\n",
      "patient_nbr                     0\n",
      "race                         1886\n",
      "gender                          0\n",
      "age                             0\n",
      "weight                      68666\n",
      "admission_type_id               0\n",
      "discharge_disposition_id        0\n",
      "admission_source_id             0\n",
      "time_in_hospital                0\n",
      "payer_code                  30270\n",
      "medical_specialty           34572\n",
      "num_lab_procedures              0\n",
      "num_procedures                  0\n",
      "num_medications                 0\n",
      "number_outpatient               0\n",
      "number_emergency                0\n",
      "number_inpatient                0\n",
      "diag_1                         14\n",
      "diag_2                        293\n",
      "diag_3                       1148\n",
      "number_diagnoses                0\n",
      "max_glu_serum                   0\n",
      "A1Cresult                       0\n",
      "metformin                       0\n",
      "repaglinide                     0\n",
      "nateglinide                     0\n",
      "chlorpropamide                  0\n",
      "glimepiride                     0\n",
      "acetohexamide                   0\n",
      "glipizide                       0\n",
      "glyburide                       0\n",
      "tolbutamide                     0\n",
      "pioglitazone                    0\n",
      "rosiglitazone                   0\n",
      "acarbose                        0\n",
      "miglitol                        0\n",
      "troglitazone                    0\n",
      "tolazamide                      0\n",
      "examide                         0\n",
      "citoglipton                     0\n",
      "insulin                         0\n",
      "glyburide-metformin             0\n",
      "glipizide-metformin             0\n",
      "glimepiride-pioglitazone        0\n",
      "metformin-rosiglitazone         0\n",
      "metformin-pioglitazone          0\n",
      "change                          0\n",
      "diabetesMed                     0\n",
      "dtype: int64\n"
     ]
    }
   ],
   "source": [
    "df2 = df.iloc[:, :-1]\n",
    "print(\"# of Rows, # of Columns: \",df2.shape)\n",
    "print(\"\\nColumn Name           # of Missing Values\\n\")\n",
    "print((df2[:] == '?').sum())"
   ]
  },
  {
   "cell_type": "code",
   "execution_count": 11,
   "metadata": {
    "ExecuteTime": {
     "end_time": "2020-11-29T18:52:04.548923Z",
     "start_time": "2020-11-29T18:52:03.936257Z"
    }
   },
   "outputs": [
    {
     "name": "stdout",
     "output_type": "stream",
     "text": [
      "# of Rows, # of Columns:  (71518, 49)\n",
      "\n",
      "Column Name              % Missing Values\n",
      "\n",
      "encounter_id                 0.000000\n",
      "patient_nbr                  0.000000\n",
      "race                         1.853271\n",
      "gender                       0.000000\n",
      "age                          0.000000\n",
      "weight                      67.474402\n",
      "admission_type_id            0.000000\n",
      "discharge_disposition_id     0.000000\n",
      "admission_source_id          0.000000\n",
      "time_in_hospital             0.000000\n",
      "payer_code                  29.744708\n",
      "medical_specialty           33.972054\n",
      "num_lab_procedures           0.000000\n",
      "num_procedures               0.000000\n",
      "num_medications              0.000000\n",
      "number_outpatient            0.000000\n",
      "number_emergency             0.000000\n",
      "number_inpatient             0.000000\n",
      "diag_1                       0.013757\n",
      "diag_2                       0.287915\n",
      "diag_3                       1.128078\n",
      "number_diagnoses             0.000000\n",
      "max_glu_serum                0.000000\n",
      "A1Cresult                    0.000000\n",
      "metformin                    0.000000\n",
      "repaglinide                  0.000000\n",
      "nateglinide                  0.000000\n",
      "chlorpropamide               0.000000\n",
      "glimepiride                  0.000000\n",
      "acetohexamide                0.000000\n",
      "glipizide                    0.000000\n",
      "glyburide                    0.000000\n",
      "tolbutamide                  0.000000\n",
      "pioglitazone                 0.000000\n",
      "rosiglitazone                0.000000\n",
      "acarbose                     0.000000\n",
      "miglitol                     0.000000\n",
      "troglitazone                 0.000000\n",
      "tolazamide                   0.000000\n",
      "examide                      0.000000\n",
      "citoglipton                  0.000000\n",
      "insulin                      0.000000\n",
      "glyburide-metformin          0.000000\n",
      "glipizide-metformin          0.000000\n",
      "glimepiride-pioglitazone     0.000000\n",
      "metformin-rosiglitazone      0.000000\n",
      "metformin-pioglitazone       0.000000\n",
      "change                       0.000000\n",
      "diabetesMed                  0.000000\n",
      "dtype: float64\n"
     ]
    }
   ],
   "source": [
    "print(\"# of Rows, # of Columns: \",df2.shape)\n",
    "print(\"\\nColumn Name              % Missing Values\\n\")\n",
    "print(((df2[:] == '?').sum())/101766*100)"
   ]
  },
  {
   "cell_type": "markdown",
   "metadata": {},
   "source": [
    "**7 columns have missing values and it can be seen that 96% of the patients did not have their weight measured which causes concern as the weight can be an important indicator of someone's health condition.** Because there is over 96% of missing values, removal has been the option to consider here, though as it will lead to loss of a ton of data.\n",
    "\n",
    "These can be considered as Missing Completely At Random (MCAR) values.\n",
    "\n",
    "As seen above, there is no missing value from the Glucose serum test result (max_glu_serum) to the last feature, and they are all categorical. Therefore, those feature will be encoded with the label encoder later on."
   ]
  },
  {
   "cell_type": "markdown",
   "metadata": {
    "ExecuteTime": {
     "end_time": "2020-11-21T06:58:55.986276Z",
     "start_time": "2020-11-21T06:58:55.982278Z"
    }
   },
   "source": [
    "### Handling missing values & feature transformations "
   ]
  },
  {
   "cell_type": "code",
   "execution_count": 12,
   "metadata": {
    "ExecuteTime": {
     "end_time": "2020-11-29T18:52:04.564929Z",
     "start_time": "2020-11-29T18:52:04.551917Z"
    }
   },
   "outputs": [],
   "source": [
    "# Our label encoder\n",
    "encoder = LabelEncoder()"
   ]
  },
  {
   "cell_type": "markdown",
   "metadata": {
    "ExecuteTime": {
     "end_time": "2020-11-21T06:58:55.986276Z",
     "start_time": "2020-11-21T06:58:55.982278Z"
    }
   },
   "source": [
    "#### Race"
   ]
  },
  {
   "cell_type": "code",
   "execution_count": 13,
   "metadata": {
    "ExecuteTime": {
     "end_time": "2020-11-29T18:52:04.772755Z",
     "start_time": "2020-11-29T18:52:04.567909Z"
    }
   },
   "outputs": [
    {
     "data": {
      "text/plain": [
       "race\n",
       "?                   1886\n",
       "AfricanAmerican    12913\n",
       "Asian                509\n",
       "Caucasian          53527\n",
       "Hispanic            1512\n",
       "Other               1171\n",
       "dtype: int64"
      ]
     },
     "execution_count": 13,
     "metadata": {},
     "output_type": "execute_result"
    }
   ],
   "source": [
    "ap=df.groupby(by=['race'])\n",
    "ap.size()"
   ]
  },
  {
   "cell_type": "markdown",
   "metadata": {},
   "source": [
    "**Race is a categorical feature of 5 different values.** One waay to tackle the missing values here can be to replace the missing values with the most common ones which is 'caucasian'."
   ]
  },
  {
   "cell_type": "code",
   "execution_count": 14,
   "metadata": {
    "ExecuteTime": {
     "end_time": "2020-11-29T18:52:06.707805Z",
     "start_time": "2020-11-29T18:52:04.776737Z"
    }
   },
   "outputs": [],
   "source": [
    "# replace '?' with nan\n",
    "# df[['race']] = df[['race']].replace('?', np.nan)\n",
    "\n",
    "# df = df.fillna(df['race'].mode().iloc[0])\n",
    "\n",
    "most_imputer = SimpleImputer(missing_values='?', strategy=\"most_frequent\")\n",
    "mean_imputer = SimpleImputer(missing_values='?', strategy=\"mean\")\n",
    "\n",
    "df[['race']] = most_imputer.fit_transform(df[['race']])"
   ]
  },
  {
   "cell_type": "code",
   "execution_count": 15,
   "metadata": {
    "ExecuteTime": {
     "end_time": "2020-11-29T18:52:06.738462Z",
     "start_time": "2020-11-29T18:52:06.710479Z"
    }
   },
   "outputs": [
    {
     "data": {
      "text/plain": [
       "race\n",
       "AfricanAmerican    12913\n",
       "Asian                509\n",
       "Caucasian          55413\n",
       "Hispanic            1512\n",
       "Other               1171\n",
       "dtype: int64"
      ]
     },
     "execution_count": 15,
     "metadata": {},
     "output_type": "execute_result"
    }
   ],
   "source": [
    "ap=df.groupby(by=['race'])\n",
    "ap.size()"
   ]
  },
  {
   "cell_type": "markdown",
   "metadata": {},
   "source": [
    "The feature is then converted to numeric with our label encoder"
   ]
  },
  {
   "cell_type": "code",
   "execution_count": 16,
   "metadata": {
    "ExecuteTime": {
     "end_time": "2020-11-29T18:52:06.929737Z",
     "start_time": "2020-11-29T18:52:06.744462Z"
    }
   },
   "outputs": [],
   "source": [
    "df['race'] = encoder.fit_transform(df['race'])"
   ]
  },
  {
   "cell_type": "code",
   "execution_count": 17,
   "metadata": {
    "ExecuteTime": {
     "end_time": "2020-11-29T18:52:07.771472Z",
     "start_time": "2020-11-29T18:52:06.931723Z"
    }
   },
   "outputs": [
    {
     "data": {
      "text/plain": [
       "<matplotlib.axes._subplots.AxesSubplot at 0x280ea0e5b38>"
      ]
     },
     "execution_count": 17,
     "metadata": {},
     "output_type": "execute_result"
    },
    {
     "data": {
      "image/png": "[encoded data removed]",
      "text/plain": [
       "<Figure size 432x288 with 1 Axes>"
      ]
     },
     "metadata": {},
     "output_type": "display_data"
    }
   ],
   "source": [
    "df['race'].hist(grid=True,bins=100)"
   ]
  },
  {
   "cell_type": "markdown",
   "metadata": {
    "ExecuteTime": {
     "end_time": "2020-11-21T06:58:55.986276Z",
     "start_time": "2020-11-21T06:58:55.982278Z"
    }
   },
   "source": [
    "#### Weight"
   ]
  },
  {
   "cell_type": "code",
   "execution_count": 18,
   "metadata": {
    "ExecuteTime": {
     "end_time": "2020-11-29T18:52:07.802454Z",
     "start_time": "2020-11-29T18:52:07.773455Z"
    }
   },
   "outputs": [
    {
     "data": {
      "text/plain": [
       "weight\n",
       ">200             3\n",
       "?            68666\n",
       "[0-25)          43\n",
       "[100-125)      559\n",
       "[125-150)      131\n",
       "[150-175)       34\n",
       "[175-200)        8\n",
       "[25-50)         89\n",
       "[50-75)        785\n",
       "[75-100)      1200\n",
       "dtype: int64"
      ]
     },
     "execution_count": 18,
     "metadata": {},
     "output_type": "execute_result"
    }
   ],
   "source": [
    "ap=df.groupby(by=['weight'])\n",
    "ap.size()"
   ]
  },
  {
   "cell_type": "markdown",
   "metadata": {},
   "source": [
    "**Because imputting the value of the weight from such a small amount of given weight can lead to overfitting, this feature is dropped.**"
   ]
  },
  {
   "cell_type": "code",
   "execution_count": 19,
   "metadata": {
    "ExecuteTime": {
     "end_time": "2020-11-29T18:52:08.023403Z",
     "start_time": "2020-11-29T18:52:07.805440Z"
    }
   },
   "outputs": [],
   "source": [
    "df.drop('weight', axis=1, inplace=True)"
   ]
  },
  {
   "cell_type": "markdown",
   "metadata": {
    "ExecuteTime": {
     "end_time": "2020-11-21T06:58:55.986276Z",
     "start_time": "2020-11-21T06:58:55.982278Z"
    }
   },
   "source": [
    "#### Payer code"
   ]
  },
  {
   "cell_type": "code",
   "execution_count": 20,
   "metadata": {
    "ExecuteTime": {
     "end_time": "2020-11-29T18:52:08.213293Z",
     "start_time": "2020-11-29T18:52:08.027389Z"
    }
   },
   "outputs": [
    {
     "data": {
      "text/plain": [
       "payer_code\n",
       "?     30270\n",
       "BC     3431\n",
       "CH      114\n",
       "CM     1392\n",
       "CP     1941\n",
       "DM      381\n",
       "FR        1\n",
       "HM     4096\n",
       "MC    21138\n",
       "MD     2235\n",
       "MP       37\n",
       "OG      656\n",
       "OT       64\n",
       "PO      461\n",
       "SI       36\n",
       "SP     3253\n",
       "UN     1891\n",
       "WC      121\n",
       "dtype: int64"
      ]
     },
     "execution_count": 20,
     "metadata": {},
     "output_type": "execute_result"
    }
   ],
   "source": [
    "ap=df.groupby(by=['payer_code'])\n",
    "ap.size()"
   ]
  },
  {
   "cell_type": "markdown",
   "metadata": {},
   "source": [
    "Similar to the weight, the payer code has too may missing values to consider imputing, it is also an irrelevant feature to the outcome, just like the ID and admission number, therefore, the feature is dropped. "
   ]
  },
  {
   "cell_type": "code",
   "execution_count": 21,
   "metadata": {
    "ExecuteTime": {
     "end_time": "2020-11-29T18:52:08.402833Z",
     "start_time": "2020-11-29T18:52:08.215294Z"
    }
   },
   "outputs": [],
   "source": [
    "df.drop('payer_code', axis=1, inplace=True)"
   ]
  },
  {
   "cell_type": "markdown",
   "metadata": {
    "ExecuteTime": {
     "end_time": "2020-11-21T06:58:55.986276Z",
     "start_time": "2020-11-21T06:58:55.982278Z"
    }
   },
   "source": [
    "#### Medical Specialty"
   ]
  },
  {
   "cell_type": "code",
   "execution_count": 22,
   "metadata": {
    "ExecuteTime": {
     "end_time": "2020-11-29T18:52:08.561004Z",
     "start_time": "2020-11-29T18:52:08.404838Z"
    }
   },
   "outputs": [
    {
     "data": {
      "text/plain": [
       "medical_specialty\n",
       "?                           34572\n",
       "AllergyandImmunology            6\n",
       "Anesthesiology                 10\n",
       "Anesthesiology-Pediatric       17\n",
       "Cardiology                   4168\n",
       "                            ...  \n",
       "Surgery-Plastic                34\n",
       "Surgery-Thoracic               93\n",
       "Surgery-Vascular              355\n",
       "SurgicalSpecialty              23\n",
       "Urology                       504\n",
       "Length: 68, dtype: int64"
      ]
     },
     "execution_count": 22,
     "metadata": {},
     "output_type": "execute_result"
    }
   ],
   "source": [
    "ap=df.groupby(by=['medical_specialty'])\n",
    "ap.size()"
   ]
  },
  {
   "cell_type": "code",
   "execution_count": 23,
   "metadata": {
    "ExecuteTime": {
     "end_time": "2020-11-29T18:52:08.765870Z",
     "start_time": "2020-11-29T18:52:08.563986Z"
    }
   },
   "outputs": [
    {
     "data": {
      "text/plain": [
       "array(['?', 'AllergyandImmunology', 'Anesthesiology',\n",
       "       'Anesthesiology-Pediatric', 'Cardiology', 'Cardiology-Pediatric',\n",
       "       'DCPTEAM', 'Dentistry', 'Emergency/Trauma', 'Endocrinology',\n",
       "       'Endocrinology-Metabolism', 'Family/GeneralPractice',\n",
       "       'Gastroenterology', 'Gynecology', 'Hematology',\n",
       "       'Hematology/Oncology', 'Hospitalist', 'InfectiousDiseases',\n",
       "       'InternalMedicine', 'Nephrology', 'Neurology', 'Neurophysiology',\n",
       "       'Obsterics&Gynecology-GynecologicOnco', 'Obstetrics',\n",
       "       'ObstetricsandGynecology', 'Oncology', 'Ophthalmology',\n",
       "       'Orthopedics', 'Orthopedics-Reconstructive', 'Osteopath',\n",
       "       'Otolaryngology', 'OutreachServices', 'Pathology', 'Pediatrics',\n",
       "       'Pediatrics-CriticalCare', 'Pediatrics-EmergencyMedicine',\n",
       "       'Pediatrics-Endocrinology', 'Pediatrics-Hematology-Oncology',\n",
       "       'Pediatrics-Neurology', 'Pediatrics-Pulmonology', 'Perinatology',\n",
       "       'PhysicalMedicineandRehabilitation', 'PhysicianNotFound',\n",
       "       'Podiatry', 'Proctology', 'Psychiatry', 'Psychiatry-Addictive',\n",
       "       'Psychiatry-Child/Adolescent', 'Psychology', 'Pulmonology',\n",
       "       'Radiologist', 'Radiology', 'Resident', 'Rheumatology', 'Speech',\n",
       "       'Surgeon', 'Surgery-Cardiovascular',\n",
       "       'Surgery-Cardiovascular/Thoracic', 'Surgery-Colon&Rectal',\n",
       "       'Surgery-General', 'Surgery-Maxillofacial', 'Surgery-Neuro',\n",
       "       'Surgery-Pediatric', 'Surgery-Plastic', 'Surgery-Thoracic',\n",
       "       'Surgery-Vascular', 'SurgicalSpecialty', 'Urology'], dtype=object)"
      ]
     },
     "execution_count": 23,
     "metadata": {},
     "output_type": "execute_result"
    }
   ],
   "source": [
    "np.unique(df['medical_specialty'])"
   ]
  },
  {
   "cell_type": "markdown",
   "metadata": {},
   "source": [
    "The specialty of the admitting department also contains a lot of missing values (49% of the data set), this is an important feature as it determines from which department the patient was first admitted, to avoid losing this information, the missing department name could probably be an unknown one, or a 'general' department. Therefore, the '?' will be replaced by an 'other' department. similar to the race feature and then encoded to numerical with our label encoder."
   ]
  },
  {
   "cell_type": "code",
   "execution_count": 24,
   "metadata": {
    "ExecuteTime": {
     "end_time": "2020-11-29T18:52:08.909938Z",
     "start_time": "2020-11-29T18:52:08.767869Z"
    }
   },
   "outputs": [],
   "source": [
    "df[['medical_specialty']] = df[['medical_specialty']].replace('?', 'Other')"
   ]
  },
  {
   "cell_type": "code",
   "execution_count": 25,
   "metadata": {
    "ExecuteTime": {
     "end_time": "2020-11-29T18:52:09.352838Z",
     "start_time": "2020-11-29T18:52:08.911957Z"
    }
   },
   "outputs": [],
   "source": [
    "for i in np.unique(df['medical_specialty']):\n",
    "    if \"Anesth\" in i:\n",
    "        df[['medical_specialty']] = df[['medical_specialty']].replace(i, 'Anesthesiology')\n",
    "    elif \"Surg\" in i:\n",
    "        df[['medical_specialty']] = df[['medical_specialty']].replace(i, 'Surgery')\n",
    "    elif \"Cardio\" in i:\n",
    "        df[['medical_specialty']] = df[['medical_specialty']].replace(i, 'Cardiology')\n",
    "    elif \"Endocrin\" in i:\n",
    "        df[['medical_specialty']] = df[['medical_specialty']].replace(i, 'Endocrinology')\n",
    "    elif \"Hemato\" in i:\n",
    "        df[['medical_specialty']] = df[['medical_specialty']].replace(i, 'Hematology')\n",
    "    elif \"Obste\" in i:\n",
    "        df[['medical_specialty']] = df[['medical_specialty']].replace(i, 'Obstetrics')\n",
    "    elif \"Pediat\" in i:\n",
    "        df[['medical_specialty']] = df[['medical_specialty']].replace(i, 'Pediatrics')\n",
    "    elif \"Psychi\" in i:\n",
    "        df[['medical_specialty']] = df[['medical_specialty']].replace(i, 'Psychiatry')\n",
    "    elif \"Orthoped\" in i:\n",
    "        df[['medical_specialty']] = df[['medical_specialty']].replace(i, 'Orthopedics')\n",
    "    elif \"Radio\" in i:\n",
    "        df[['medical_specialty']] = df[['medical_specialty']].replace(i, 'Radiology')\n",
    "    elif \"Neuro\" in i:\n",
    "        df[['medical_specialty']] = df[['medical_specialty']].replace(i, 'Neurology')"
   ]
  },
  {
   "cell_type": "code",
   "execution_count": 26,
   "metadata": {
    "ExecuteTime": {
     "end_time": "2020-11-29T18:52:09.431739Z",
     "start_time": "2020-11-29T18:52:09.354786Z"
    }
   },
   "outputs": [
    {
     "data": {
      "text/plain": [
       "array(['AllergyandImmunology', 'Anesthesiology', 'Cardiology', 'DCPTEAM',\n",
       "       'Dentistry', 'Emergency/Trauma', 'Endocrinology',\n",
       "       'Family/GeneralPractice', 'Gastroenterology', 'Gynecology',\n",
       "       'Hematology', 'Hospitalist', 'InfectiousDiseases',\n",
       "       'InternalMedicine', 'Nephrology', 'Neurology', 'Obstetrics',\n",
       "       'Oncology', 'Ophthalmology', 'Orthopedics', 'Osteopath', 'Other',\n",
       "       'Otolaryngology', 'OutreachServices', 'Pathology', 'Pediatrics',\n",
       "       'Perinatology', 'PhysicalMedicineandRehabilitation',\n",
       "       'PhysicianNotFound', 'Podiatry', 'Proctology', 'Psychiatry',\n",
       "       'Psychology', 'Pulmonology', 'Radiology', 'Resident',\n",
       "       'Rheumatology', 'Speech', 'Surgery', 'Urology'], dtype=object)"
      ]
     },
     "execution_count": 26,
     "metadata": {},
     "output_type": "execute_result"
    }
   ],
   "source": [
    "np.unique(df['medical_specialty'])"
   ]
  },
  {
   "cell_type": "markdown",
   "metadata": {},
   "source": [
    "After these modifications, the number of different departments has been reduced from 73 to 42."
   ]
  },
  {
   "cell_type": "code",
   "execution_count": 27,
   "metadata": {
    "ExecuteTime": {
     "end_time": "2020-11-29T18:52:10.064652Z",
     "start_time": "2020-11-29T18:52:09.433737Z"
    }
   },
   "outputs": [
    {
     "data": {
      "text/plain": [
       "<matplotlib.axes._subplots.AxesSubplot at 0x280ea3c45c0>"
      ]
     },
     "execution_count": 27,
     "metadata": {},
     "output_type": "execute_result"
    },
    {
     "data": {
      "image/png": "[encoded data removed]",
      "text/plain": [
       "<Figure size 432x288 with 1 Axes>"
      ]
     },
     "metadata": {},
     "output_type": "display_data"
    }
   ],
   "source": [
    "df['medical_specialty'] = encoder.fit_transform(df['medical_specialty'])\n",
    "\n",
    "df['medical_specialty'].hist(grid=True,bins=100)"
   ]
  },
  {
   "cell_type": "markdown",
   "metadata": {},
   "source": [
    "##### Outliers"
   ]
  },
  {
   "cell_type": "code",
   "execution_count": 28,
   "metadata": {
    "ExecuteTime": {
     "end_time": "2020-11-29T18:52:10.095620Z",
     "start_time": "2020-11-29T18:52:10.066651Z"
    }
   },
   "outputs": [
    {
     "name": "stdout",
     "output_type": "stream",
     "text": [
      "Q1: 13.0 ; Q2: 21.0 ; Q3: 21.0 ; Q4: 39.0\n",
      "\n",
      "The outliers are outside the range [ 1.0 , 33.0 ].\n",
      "\n",
      "# of outliers: 5192\n"
     ]
    }
   ],
   "source": [
    "# Quartiles, Interquartile range (Q3 – Q1) and outliers\n",
    "\n",
    "q1 = df['medical_specialty'].quantile(q = 0.25)\n",
    "q2 = df['medical_specialty'].quantile(q = 0.50)\n",
    "q3 = df['medical_specialty'].quantile(q = 0.75)\n",
    "q4 = df['medical_specialty'].quantile(q = 1.00)\n",
    "iqr = q3 - q1\n",
    "l_outliers = q1 - 1.5 * iqr # the left-side boundary\n",
    "h_outliers = q3 + 1.5 * iqr # the right-side boundary\n",
    "print('Q1:', q1, '; Q2:', q2, '; Q3:', q3, '; Q4:', q4)\n",
    "print(\"\\nThe outliers are outside the range [\", l_outliers , \",\" , h_outliers, \"].\")\n",
    "\n",
    "# Number of outliers\n",
    "\n",
    "o_l = df[df['medical_specialty'] > h_outliers]['medical_specialty'].count()\n",
    "print(\"\\n# of outliers:\", o_l)"
   ]
  },
  {
   "cell_type": "code",
   "execution_count": 29,
   "metadata": {
    "ExecuteTime": {
     "end_time": "2020-11-29T18:52:10.222839Z",
     "start_time": "2020-11-29T18:52:10.097619Z"
    }
   },
   "outputs": [],
   "source": [
    "# df.drop(df[df['medical_specialty'] > h_outliers].index, inplace=True, axis=0)"
   ]
  },
  {
   "cell_type": "markdown",
   "metadata": {
    "ExecuteTime": {
     "end_time": "2020-11-21T06:58:55.986276Z",
     "start_time": "2020-11-21T06:58:55.982278Z"
    }
   },
   "source": [
    "#### Diagnosis 1"
   ]
  },
  {
   "cell_type": "code",
   "execution_count": 30,
   "metadata": {
    "ExecuteTime": {
     "end_time": "2020-11-29T18:52:10.412034Z",
     "start_time": "2020-11-29T18:52:10.227820Z"
    }
   },
   "outputs": [
    {
     "data": {
      "text/plain": [
       "diag_1\n",
       "10      1\n",
       "11      8\n",
       "110     2\n",
       "112    43\n",
       "114     1\n",
       "       ..\n",
       "V63     7\n",
       "V66     2\n",
       "V67     1\n",
       "V70     1\n",
       "V71     7\n",
       "Length: 691, dtype: int64"
      ]
     },
     "execution_count": 30,
     "metadata": {},
     "output_type": "execute_result"
    }
   ],
   "source": [
    "ap=df.groupby(by=['diag_1'])\n",
    "ap.size()"
   ]
  },
  {
   "cell_type": "code",
   "execution_count": 31,
   "metadata": {
    "ExecuteTime": {
     "end_time": "2020-11-29T18:52:11.571255Z",
     "start_time": "2020-11-29T18:52:10.414032Z"
    }
   },
   "outputs": [
    {
     "data": {
      "text/plain": [
       "<matplotlib.axes._subplots.AxesSubplot at 0x280ea5075f8>"
      ]
     },
     "execution_count": 31,
     "metadata": {},
     "output_type": "execute_result"
    },
    {
     "data": {
      "image/png": "[encoded data removed]",
      "text/plain": [
       "<Figure size 432x288 with 1 Axes>"
      ]
     },
     "metadata": {},
     "output_type": "display_data"
    }
   ],
   "source": [
    "df[['diag_1']] = most_imputer.fit_transform(df[['diag_1']])\n",
    "df['diag_1'] = encoder.fit_transform(df['diag_1'])\n",
    "\n",
    "df['diag_1'].hist(grid=True,bins=100)"
   ]
  },
  {
   "cell_type": "markdown",
   "metadata": {},
   "source": [
    "##### Outliers"
   ]
  },
  {
   "cell_type": "code",
   "execution_count": 32,
   "metadata": {
    "ExecuteTime": {
     "end_time": "2020-11-29T18:52:11.603253Z",
     "start_time": "2020-11-29T18:52:11.576252Z"
    }
   },
   "outputs": [
    {
     "name": "stdout",
     "output_type": "stream",
     "text": [
      "Q1: 252.0 ; Q2: 294.0 ; Q3: 449.0 ; Q4: 689.0\n",
      "\n",
      "The outliers are outside the range [ -43.5 , 744.5 ].\n",
      "\n",
      "# of outliers: 0\n"
     ]
    }
   ],
   "source": [
    "# Quartiles, Interquartile range (Q3 – Q1) and outliers\n",
    "\n",
    "q1 = df['diag_1'].quantile(q = 0.25)\n",
    "q2 = df['diag_1'].quantile(q = 0.50)\n",
    "q3 = df['diag_1'].quantile(q = 0.75)\n",
    "q4 = df['diag_1'].quantile(q = 1.00)\n",
    "iqr = q3 - q1\n",
    "l_outliers = q1 - 1.5 * iqr # the left-side boundary\n",
    "h_outliers = q3 + 1.5 * iqr # the right-side boundary\n",
    "print('Q1:', q1, '; Q2:', q2, '; Q3:', q3, '; Q4:', q4)\n",
    "print(\"\\nThe outliers are outside the range [\", l_outliers , \",\" , h_outliers, \"].\")\n",
    "\n",
    "# Number of outliers\n",
    "\n",
    "o_l = df[df['diag_1'] > h_outliers]['diag_1'].count()\n",
    "print(\"\\n# of outliers:\", o_l)"
   ]
  },
  {
   "cell_type": "code",
   "execution_count": 33,
   "metadata": {
    "ExecuteTime": {
     "end_time": "2020-11-29T18:52:11.699197Z",
     "start_time": "2020-11-29T18:52:11.606242Z"
    }
   },
   "outputs": [],
   "source": [
    "# df.drop(df[df['diag_1'] > h_outliers].index, inplace=True, axis=0)"
   ]
  },
  {
   "cell_type": "markdown",
   "metadata": {
    "ExecuteTime": {
     "end_time": "2020-11-21T06:58:55.986276Z",
     "start_time": "2020-11-21T06:58:55.982278Z"
    }
   },
   "source": [
    "#### Diagnosis 2"
   ]
  },
  {
   "cell_type": "code",
   "execution_count": 34,
   "metadata": {
    "ExecuteTime": {
     "end_time": "2020-11-29T18:52:11.839117Z",
     "start_time": "2020-11-29T18:52:11.702180Z"
    }
   },
   "outputs": [
    {
     "data": {
      "text/plain": [
       "diag_2\n",
       "11       2\n",
       "110      3\n",
       "111      1\n",
       "112    138\n",
       "117      8\n",
       "      ... \n",
       "V69      1\n",
       "V70      7\n",
       "V72     12\n",
       "V85    141\n",
       "V86      1\n",
       "Length: 721, dtype: int64"
      ]
     },
     "execution_count": 34,
     "metadata": {},
     "output_type": "execute_result"
    }
   ],
   "source": [
    "ap=df.groupby(by=['diag_2'])\n",
    "ap.size()"
   ]
  },
  {
   "cell_type": "code",
   "execution_count": 35,
   "metadata": {
    "ExecuteTime": {
     "end_time": "2020-11-29T18:52:12.979475Z",
     "start_time": "2020-11-29T18:52:11.843100Z"
    }
   },
   "outputs": [
    {
     "data": {
      "text/plain": [
       "<matplotlib.axes._subplots.AxesSubplot at 0x280ea4b6dd8>"
      ]
     },
     "execution_count": 35,
     "metadata": {},
     "output_type": "execute_result"
    },
    {
     "data": {
      "image/png": "[encoded data removed]",
      "text/plain": [
       "<Figure size 432x288 with 1 Axes>"
      ]
     },
     "metadata": {},
     "output_type": "display_data"
    }
   ],
   "source": [
    "df[['diag_2']] = most_imputer.fit_transform(df[['diag_2']])\n",
    "df['diag_2'] = encoder.fit_transform(df['diag_2'])\n",
    "\n",
    "df['diag_2'].hist(grid=True,bins=100)"
   ]
  },
  {
   "cell_type": "markdown",
   "metadata": {},
   "source": [
    "##### Outliers"
   ]
  },
  {
   "cell_type": "code",
   "execution_count": 36,
   "metadata": {
    "ExecuteTime": {
     "end_time": "2020-11-29T18:52:13.011440Z",
     "start_time": "2020-11-29T18:52:12.981442Z"
    }
   },
   "outputs": [
    {
     "name": "stdout",
     "output_type": "stream",
     "text": [
      "Q1: 134.0 ; Q2: 250.0 ; Q3: 361.0 ; Q4: 719.0\n",
      "\n",
      "The outliers are outside the range [ -206.5 , 701.5 ].\n",
      "\n",
      "# of outliers: 459\n"
     ]
    }
   ],
   "source": [
    "# Quartiles, Interquartile range (Q3 – Q1) and outliers\n",
    "\n",
    "q1 = df['diag_2'].quantile(q = 0.25)\n",
    "q2 = df['diag_2'].quantile(q = 0.50)\n",
    "q3 = df['diag_2'].quantile(q = 0.75)\n",
    "q4 = df['diag_2'].quantile(q = 1.00)\n",
    "iqr = q3 - q1\n",
    "l_outliers = q1 - 1.5 * iqr # the left-side boundary\n",
    "h_outliers = q3 + 1.5 * iqr # the right-side boundary\n",
    "print('Q1:', q1, '; Q2:', q2, '; Q3:', q3, '; Q4:', q4)\n",
    "print(\"\\nThe outliers are outside the range [\", l_outliers , \",\" , h_outliers, \"].\")\n",
    "\n",
    "\n",
    "# Number of outliers\n",
    "\n",
    "o_l = df[df['diag_2'] > h_outliers]['diag_2'].count()\n",
    "print(\"\\n# of outliers:\", o_l)"
   ]
  },
  {
   "cell_type": "code",
   "execution_count": 37,
   "metadata": {
    "ExecuteTime": {
     "end_time": "2020-11-29T18:52:13.184341Z",
     "start_time": "2020-11-29T18:52:13.013423Z"
    }
   },
   "outputs": [],
   "source": [
    "# df.drop(df[df['diag_2'] > h_outliers].index, inplace=True, axis=0)"
   ]
  },
  {
   "cell_type": "markdown",
   "metadata": {
    "ExecuteTime": {
     "end_time": "2020-11-21T06:58:55.986276Z",
     "start_time": "2020-11-21T06:58:55.982278Z"
    }
   },
   "source": [
    "#### Diagnosis 3"
   ]
  },
  {
   "cell_type": "code",
   "execution_count": 38,
   "metadata": {
    "ExecuteTime": {
     "end_time": "2020-11-29T18:52:13.326960Z",
     "start_time": "2020-11-29T18:52:13.186324Z"
    }
   },
   "outputs": [
    {
     "data": {
      "text/plain": [
       "diag_3\n",
       "11       1\n",
       "110     15\n",
       "112    144\n",
       "115      1\n",
       "117      4\n",
       "      ... \n",
       "V66     16\n",
       "V70      2\n",
       "V72      6\n",
       "V85     75\n",
       "V86      3\n",
       "Length: 750, dtype: int64"
      ]
     },
     "execution_count": 38,
     "metadata": {},
     "output_type": "execute_result"
    }
   ],
   "source": [
    "ap=df.groupby(by=['diag_3'])\n",
    "ap.size()"
   ]
  },
  {
   "cell_type": "code",
   "execution_count": 39,
   "metadata": {
    "ExecuteTime": {
     "end_time": "2020-11-29T18:52:14.498899Z",
     "start_time": "2020-11-29T18:52:13.328958Z"
    }
   },
   "outputs": [
    {
     "data": {
      "text/plain": [
       "<matplotlib.axes._subplots.AxesSubplot at 0x280ec969eb8>"
      ]
     },
     "execution_count": 39,
     "metadata": {},
     "output_type": "execute_result"
    },
    {
     "data": {
      "image/png": "[encoded data removed]",
      "text/plain": [
       "<Figure size 432x288 with 1 Axes>"
      ]
     },
     "metadata": {},
     "output_type": "display_data"
    }
   ],
   "source": [
    "df[['diag_3']] = most_imputer.fit_transform(df[['diag_3']])\n",
    "df['diag_3'] = encoder.fit_transform(df['diag_3'])\n",
    "\n",
    "df['diag_3'].hist(grid=True,bins=100)"
   ]
  },
  {
   "cell_type": "markdown",
   "metadata": {},
   "source": [
    "##### Outliers"
   ]
  },
  {
   "cell_type": "code",
   "execution_count": 40,
   "metadata": {
    "ExecuteTime": {
     "end_time": "2020-11-29T18:52:14.530883Z",
     "start_time": "2020-11-29T18:52:14.501897Z"
    }
   },
   "outputs": [
    {
     "name": "stdout",
     "output_type": "stream",
     "text": [
      "Q1: 131.0 ; Q2: 239.0 ; Q3: 337.0 ; Q4: 748.0\n",
      "\n",
      "The outliers are outside the range [ -178.0 , 646.0 ].\n",
      "\n",
      "# of outliers: 3547\n"
     ]
    }
   ],
   "source": [
    "# Quartiles, Interquartile range (Q3 – Q1) and outliers\n",
    "\n",
    "q1 = df['diag_3'].quantile(q = 0.25)\n",
    "q2 = df['diag_3'].quantile(q = 0.50)\n",
    "q3 = df['diag_3'].quantile(q = 0.75)\n",
    "q4 = df['diag_3'].quantile(q = 1.00)\n",
    "iqr = q3 - q1\n",
    "l_outliers = q1 - 1.5 * iqr # the left-side boundary\n",
    "h_outliers = q3 + 1.5 * iqr # the right-side boundary\n",
    "print('Q1:', q1, '; Q2:', q2, '; Q3:', q3, '; Q4:', q4)\n",
    "print(\"\\nThe outliers are outside the range [\", l_outliers , \",\" , h_outliers, \"].\")\n",
    "\n",
    "# Number of outliers\n",
    "\n",
    "o_l = df[df['diag_3'] > h_outliers]['diag_3'].count()\n",
    "print(\"\\n# of outliers:\", o_l)"
   ]
  },
  {
   "cell_type": "code",
   "execution_count": 41,
   "metadata": {
    "ExecuteTime": {
     "end_time": "2020-11-29T18:52:14.768783Z",
     "start_time": "2020-11-29T18:52:14.532880Z"
    }
   },
   "outputs": [],
   "source": [
    "# df.drop(df[df['diag_3'] > h_outliers].index, inplace=True, axis=0)"
   ]
  },
  {
   "cell_type": "markdown",
   "metadata": {
    "ExecuteTime": {
     "end_time": "2020-11-21T06:58:55.986276Z",
     "start_time": "2020-11-21T06:58:55.982278Z"
    }
   },
   "source": [
    "#### Missing values conclusion"
   ]
  },
  {
   "cell_type": "markdown",
   "metadata": {},
   "source": [
    "Now that the missing values have been dealt with and the outliers have been removed, the categorical ones will be dealt with in the rest of the notebook."
   ]
  },
  {
   "cell_type": "code",
   "execution_count": 42,
   "metadata": {
    "ExecuteTime": {
     "end_time": "2020-11-29T18:52:15.084846Z",
     "start_time": "2020-11-29T18:52:14.770739Z"
    },
    "scrolled": false
   },
   "outputs": [
    {
     "name": "stdout",
     "output_type": "stream",
     "text": [
      "# of Rows, # of Columns:  (71518, 47)\n",
      "\n",
      "Column Name           # of Missing Values\n",
      "\n",
      "encounter_id                0\n",
      "patient_nbr                 0\n",
      "race                        0\n",
      "gender                      0\n",
      "age                         0\n",
      "admission_type_id           0\n",
      "discharge_disposition_id    0\n",
      "admission_source_id         0\n",
      "time_in_hospital            0\n",
      "medical_specialty           0\n",
      "num_lab_procedures          0\n",
      "num_procedures              0\n",
      "num_medications             0\n",
      "number_outpatient           0\n",
      "number_emergency            0\n",
      "number_inpatient            0\n",
      "diag_1                      0\n",
      "diag_2                      0\n",
      "diag_3                      0\n",
      "number_diagnoses            0\n",
      "max_glu_serum               0\n",
      "A1Cresult                   0\n",
      "metformin                   0\n",
      "repaglinide                 0\n",
      "nateglinide                 0\n",
      "chlorpropamide              0\n",
      "glimepiride                 0\n",
      "acetohexamide               0\n",
      "glipizide                   0\n",
      "glyburide                   0\n",
      "tolbutamide                 0\n",
      "pioglitazone                0\n",
      "rosiglitazone               0\n",
      "acarbose                    0\n",
      "miglitol                    0\n",
      "troglitazone                0\n",
      "tolazamide                  0\n",
      "examide                     0\n",
      "citoglipton                 0\n",
      "insulin                     0\n",
      "glyburide-metformin         0\n",
      "glipizide-metformin         0\n",
      "glimepiride-pioglitazone    0\n",
      "metformin-rosiglitazone     0\n",
      "metformin-pioglitazone      0\n",
      "change                      0\n",
      "diabetesMed                 0\n",
      "dtype: int64\n"
     ]
    }
   ],
   "source": [
    "df2 = df.iloc[:, :-1]\n",
    "print(\"# of Rows, # of Columns: \",df2.shape)\n",
    "print(\"\\nColumn Name           # of Missing Values\\n\")\n",
    "print((df2[:] == '?').sum())"
   ]
  },
  {
   "cell_type": "markdown",
   "metadata": {
    "ExecuteTime": {
     "end_time": "2020-11-21T06:58:55.986276Z",
     "start_time": "2020-11-21T06:58:55.982278Z"
    }
   },
   "source": [
    "### Data preprocessing and Feature transformation "
   ]
  },
  {
   "cell_type": "code",
   "execution_count": 43,
   "metadata": {
    "ExecuteTime": {
     "end_time": "2020-11-29T18:52:15.228783Z",
     "start_time": "2020-11-29T18:52:15.086848Z"
    }
   },
   "outputs": [
    {
     "name": "stdout",
     "output_type": "stream",
     "text": [
      "<class 'pandas.core.frame.DataFrame'>\n",
      "Int64Index: 71518 entries, 0 to 101756\n",
      "Data columns (total 48 columns):\n",
      " #   Column                    Non-Null Count  Dtype \n",
      "---  ------                    --------------  ----- \n",
      " 0   encounter_id              71518 non-null  int64 \n",
      " 1   patient_nbr               71518 non-null  int64 \n",
      " 2   race                      71518 non-null  int32 \n",
      " 3   gender                    71518 non-null  object\n",
      " 4   age                       71518 non-null  object\n",
      " 5   admission_type_id         71518 non-null  int64 \n",
      " 6   discharge_disposition_id  71518 non-null  int64 \n",
      " 7   admission_source_id       71518 non-null  int64 \n",
      " 8   time_in_hospital          71518 non-null  int64 \n",
      " 9   medical_specialty         71518 non-null  int32 \n",
      " 10  num_lab_procedures        71518 non-null  int64 \n",
      " 11  num_procedures            71518 non-null  int64 \n",
      " 12  num_medications           71518 non-null  int64 \n",
      " 13  number_outpatient         71518 non-null  int64 \n",
      " 14  number_emergency          71518 non-null  int64 \n",
      " 15  number_inpatient          71518 non-null  int64 \n",
      " 16  diag_1                    71518 non-null  int32 \n",
      " 17  diag_2                    71518 non-null  int32 \n",
      " 18  diag_3                    71518 non-null  int32 \n",
      " 19  number_diagnoses          71518 non-null  int64 \n",
      " 20  max_glu_serum             71518 non-null  object\n",
      " 21  A1Cresult                 71518 non-null  object\n",
      " 22  metformin                 71518 non-null  object\n",
      " 23  repaglinide               71518 non-null  object\n",
      " 24  nateglinide               71518 non-null  object\n",
      " 25  chlorpropamide            71518 non-null  object\n",
      " 26  glimepiride               71518 non-null  object\n",
      " 27  acetohexamide             71518 non-null  object\n",
      " 28  glipizide                 71518 non-null  object\n",
      " 29  glyburide                 71518 non-null  object\n",
      " 30  tolbutamide               71518 non-null  object\n",
      " 31  pioglitazone              71518 non-null  object\n",
      " 32  rosiglitazone             71518 non-null  object\n",
      " 33  acarbose                  71518 non-null  object\n",
      " 34  miglitol                  71518 non-null  object\n",
      " 35  troglitazone              71518 non-null  object\n",
      " 36  tolazamide                71518 non-null  object\n",
      " 37  examide                   71518 non-null  object\n",
      " 38  citoglipton               71518 non-null  object\n",
      " 39  insulin                   71518 non-null  object\n",
      " 40  glyburide-metformin       71518 non-null  object\n",
      " 41  glipizide-metformin       71518 non-null  object\n",
      " 42  glimepiride-pioglitazone  71518 non-null  object\n",
      " 43  metformin-rosiglitazone   71518 non-null  object\n",
      " 44  metformin-pioglitazone    71518 non-null  object\n",
      " 45  change                    71518 non-null  object\n",
      " 46  diabetesMed               71518 non-null  object\n",
      " 47  readmitted                71518 non-null  object\n",
      "dtypes: int32(5), int64(13), object(30)\n",
      "memory usage: 27.9+ MB\n"
     ]
    }
   ],
   "source": [
    "df.info()"
   ]
  },
  {
   "cell_type": "markdown",
   "metadata": {
    "ExecuteTime": {
     "end_time": "2020-11-21T06:58:55.986276Z",
     "start_time": "2020-11-21T06:58:55.982278Z"
    }
   },
   "source": [
    "#### Gender"
   ]
  },
  {
   "cell_type": "code",
   "execution_count": 44,
   "metadata": {
    "ExecuteTime": {
     "end_time": "2020-11-29T18:52:15.623539Z",
     "start_time": "2020-11-29T18:52:15.230765Z"
    }
   },
   "outputs": [
    {
     "name": "stdout",
     "output_type": "stream",
     "text": [
      "Counter({'Female': 38024, 'Male': 33491, 'Unknown/Invalid': 3})\n"
     ]
    },
    {
     "data": {
      "text/plain": [
       "<matplotlib.axes._subplots.AxesSubplot at 0x280f3c5fe48>"
      ]
     },
     "execution_count": 44,
     "metadata": {},
     "output_type": "execute_result"
    },
    {
     "data": {
      "image/png": "[encoded data removed]",
      "text/plain": [
       "<Figure size 432x288 with 1 Axes>"
      ]
     },
     "metadata": {},
     "output_type": "display_data"
    }
   ],
   "source": [
    "print(collections.Counter(df['gender']))\n",
    "sns.countplot(df['gender'])"
   ]
  },
  {
   "cell_type": "code",
   "execution_count": 45,
   "metadata": {
    "ExecuteTime": {
     "end_time": "2020-11-29T18:52:15.733492Z",
     "start_time": "2020-11-29T18:52:15.627539Z"
    }
   },
   "outputs": [],
   "source": [
    "df.drop(df[df['gender'] == 'Unknown/Invalid'].index, inplace=True, axis=0)\n",
    "\n",
    "df['gender'] = encoder.fit_transform(df['gender'])"
   ]
  },
  {
   "cell_type": "markdown",
   "metadata": {
    "ExecuteTime": {
     "end_time": "2020-11-21T06:58:55.986276Z",
     "start_time": "2020-11-21T06:58:55.982278Z"
    }
   },
   "source": [
    "#### Age"
   ]
  },
  {
   "cell_type": "code",
   "execution_count": 46,
   "metadata": {
    "ExecuteTime": {
     "end_time": "2020-11-29T18:52:16.065291Z",
     "start_time": "2020-11-29T18:52:15.736474Z"
    }
   },
   "outputs": [
    {
     "data": {
      "text/plain": [
       "<matplotlib.axes._subplots.AxesSubplot at 0x280f3c59b70>"
      ]
     },
     "execution_count": 46,
     "metadata": {},
     "output_type": "execute_result"
    },
    {
     "data": {
      "image/png": "[encoded data removed]",
      "text/plain": [
       "<Figure size 432x288 with 1 Axes>"
      ]
     },
     "metadata": {},
     "output_type": "display_data"
    }
   ],
   "source": [
    "sns.countplot(df['age'])"
   ]
  },
  {
   "cell_type": "code",
   "execution_count": 47,
   "metadata": {
    "ExecuteTime": {
     "end_time": "2020-11-29T18:52:16.129264Z",
     "start_time": "2020-11-29T18:52:16.068286Z"
    }
   },
   "outputs": [],
   "source": [
    "df['age'] = encoder.fit_transform(df['age'])"
   ]
  },
  {
   "cell_type": "markdown",
   "metadata": {
    "ExecuteTime": {
     "end_time": "2020-11-21T06:58:55.986276Z",
     "start_time": "2020-11-21T06:58:55.982278Z"
    }
   },
   "source": [
    "#### Number of lab procedure"
   ]
  },
  {
   "cell_type": "code",
   "execution_count": 48,
   "metadata": {
    "ExecuteTime": {
     "end_time": "2020-11-29T18:52:16.697930Z",
     "start_time": "2020-11-29T18:52:16.132246Z"
    }
   },
   "outputs": [
    {
     "data": {
      "text/plain": [
       "<matplotlib.axes._subplots.AxesSubplot at 0x280e99dc0f0>"
      ]
     },
     "execution_count": 48,
     "metadata": {},
     "output_type": "execute_result"
    },
    {
     "data": {
      "image/png": "[encoded data removed]",
      "text/plain": [
       "<Figure size 432x288 with 1 Axes>"
      ]
     },
     "metadata": {},
     "output_type": "display_data"
    }
   ],
   "source": [
    "df['num_lab_procedures'].hist(grid=True,bins=100)"
   ]
  },
  {
   "cell_type": "code",
   "execution_count": 49,
   "metadata": {
    "ExecuteTime": {
     "end_time": "2020-11-29T18:52:16.728917Z",
     "start_time": "2020-11-29T18:52:16.699918Z"
    }
   },
   "outputs": [
    {
     "name": "stdout",
     "output_type": "stream",
     "text": [
      "Q1: 31.0 ; Q2: 44.0 ; Q3: 57.0 ; Q4: 126.0\n",
      "\n",
      "The outliers are outside the range [ -8.0 , 96.0 ].\n",
      "\n",
      "# of outliers: 123\n"
     ]
    }
   ],
   "source": [
    "# Quartiles, Interquartile range (Q3 – Q1) and outliers\n",
    "\n",
    "q1 = df['num_lab_procedures'].quantile(q = 0.25)\n",
    "q2 = df['num_lab_procedures'].quantile(q = 0.50)\n",
    "q3 = df['num_lab_procedures'].quantile(q = 0.75)\n",
    "q4 = df['num_lab_procedures'].quantile(q = 1.00)\n",
    "iqr = q3 - q1\n",
    "l_outliers = q1 - 1.5 * iqr # the left-side boundary\n",
    "h_outliers = q3 + 1.5 * iqr # the right-side boundary\n",
    "print('Q1:', q1, '; Q2:', q2, '; Q3:', q3, '; Q4:', q4)\n",
    "print(\"\\nThe outliers are outside the range [\", l_outliers , \",\" , h_outliers, \"].\")\n",
    "\n",
    "# Number of outliers\n",
    "\n",
    "o_l = df[df['num_lab_procedures'] > h_outliers]['num_lab_procedures'].count()\n",
    "print(\"\\n# of outliers:\", o_l)"
   ]
  },
  {
   "cell_type": "code",
   "execution_count": 50,
   "metadata": {
    "ExecuteTime": {
     "end_time": "2020-11-29T18:52:16.902707Z",
     "start_time": "2020-11-29T18:52:16.730900Z"
    }
   },
   "outputs": [],
   "source": [
    "# df.drop(df[df['num_lab_procedures'] > h_outliers].index, inplace=True, axis=0)"
   ]
  },
  {
   "cell_type": "markdown",
   "metadata": {
    "ExecuteTime": {
     "end_time": "2020-11-21T06:58:55.986276Z",
     "start_time": "2020-11-21T06:58:55.982278Z"
    }
   },
   "source": [
    "#### Number of medication"
   ]
  },
  {
   "cell_type": "code",
   "execution_count": 51,
   "metadata": {
    "ExecuteTime": {
     "end_time": "2020-11-29T18:52:17.485571Z",
     "start_time": "2020-11-29T18:52:16.906708Z"
    }
   },
   "outputs": [
    {
     "data": {
      "text/plain": [
       "<matplotlib.axes._subplots.AxesSubplot at 0x280e9aadd68>"
      ]
     },
     "execution_count": 51,
     "metadata": {},
     "output_type": "execute_result"
    },
    {
     "data": {
      "image/png": "[encoded data removed]",
      "text/plain": [
       "<Figure size 432x288 with 1 Axes>"
      ]
     },
     "metadata": {},
     "output_type": "display_data"
    }
   ],
   "source": [
    "df['num_medications'].hist(grid=True,bins=100)"
   ]
  },
  {
   "cell_type": "code",
   "execution_count": 52,
   "metadata": {
    "ExecuteTime": {
     "end_time": "2020-11-29T18:52:17.516570Z",
     "start_time": "2020-11-29T18:52:17.487587Z"
    }
   },
   "outputs": [
    {
     "name": "stdout",
     "output_type": "stream",
     "text": [
      "Q1: 10.0 ; Q2: 14.0 ; Q3: 20.0 ; Q4: 81.0\n",
      "\n",
      "The outliers are outside the range [ -5.0 , 35.0 ].\n",
      "\n",
      "# of outliers: 1949\n"
     ]
    }
   ],
   "source": [
    "# Quartiles, Interquartile range (Q3 – Q1) and outliers\n",
    "\n",
    "q1 = df['num_medications'].quantile(q = 0.25)\n",
    "q2 = df['num_medications'].quantile(q = 0.50)\n",
    "q3 = df['num_medications'].quantile(q = 0.75)\n",
    "q4 = df['num_medications'].quantile(q = 1.00)\n",
    "iqr = q3 - q1\n",
    "l_outliers = q1 - 1.5 * iqr # the left-side boundary\n",
    "h_outliers = q3 + 1.5 * iqr # the right-side boundary\n",
    "print('Q1:', q1, '; Q2:', q2, '; Q3:', q3, '; Q4:', q4)\n",
    "print(\"\\nThe outliers are outside the range [\", l_outliers , \",\" , h_outliers, \"].\")\n",
    "\n",
    "# Number of outliers\n",
    "\n",
    "o_l = df[df['num_medications'] > h_outliers]['num_medications'].count()\n",
    "print(\"\\n# of outliers:\", o_l)"
   ]
  },
  {
   "cell_type": "code",
   "execution_count": 53,
   "metadata": {
    "ExecuteTime": {
     "end_time": "2020-11-29T18:52:17.673726Z",
     "start_time": "2020-11-29T18:52:17.518552Z"
    }
   },
   "outputs": [],
   "source": [
    "# df.drop(df[df['num_medications'] > h_outliers].index, inplace=True, axis=0)"
   ]
  },
  {
   "cell_type": "markdown",
   "metadata": {
    "ExecuteTime": {
     "end_time": "2020-11-21T06:58:55.986276Z",
     "start_time": "2020-11-21T06:58:55.982278Z"
    }
   },
   "source": [
    "#### Discharge Disposition"
   ]
  },
  {
   "cell_type": "code",
   "execution_count": 54,
   "metadata": {
    "ExecuteTime": {
     "end_time": "2020-11-29T18:52:17.894692Z",
     "start_time": "2020-11-29T18:52:17.676734Z"
    }
   },
   "outputs": [
    {
     "data": {
      "text/plain": [
       "discharge_disposition_id\n",
       "1     43529\n",
       "2      1526\n",
       "3      9170\n",
       "4       548\n",
       "5       839\n",
       "6      8269\n",
       "7       406\n",
       "8        68\n",
       "9        14\n",
       "10        6\n",
       "11     1640\n",
       "12        2\n",
       "13      360\n",
       "14      352\n",
       "15       41\n",
       "16        5\n",
       "17       10\n",
       "18     2431\n",
       "19        8\n",
       "20        2\n",
       "22     1319\n",
       "23      277\n",
       "24       27\n",
       "25      579\n",
       "27        4\n",
       "28       83\n",
       "dtype: int64"
      ]
     },
     "execution_count": 54,
     "metadata": {},
     "output_type": "execute_result"
    }
   ],
   "source": [
    "ap=df.groupby(by=['discharge_disposition_id'])\n",
    "ap.size()"
   ]
  },
  {
   "cell_type": "code",
   "execution_count": 55,
   "metadata": {
    "ExecuteTime": {
     "end_time": "2020-11-29T18:52:18.146549Z",
     "start_time": "2020-11-29T18:52:17.896690Z"
    }
   },
   "outputs": [],
   "source": [
    "to_drop = [11, 18, 19, 20, 21, 25, 26]"
   ]
  },
  {
   "cell_type": "markdown",
   "metadata": {},
   "source": [
    "11\tExpired\n",
    "\n",
    "18\tNULL\n",
    "\n",
    "19\tExpired at home. Medicaid only, hospice.\n",
    "\n",
    "20\tExpired in a medical facility. Medicaid only, hospice.\n",
    "\n",
    "21\tExpired, place unknown. Medicaid only, hospice.\n",
    "\n",
    "25\tNot Mapped\n",
    "\n",
    "26\tUnknown/Invalid"
   ]
  },
  {
   "cell_type": "code",
   "execution_count": 56,
   "metadata": {
    "ExecuteTime": {
     "end_time": "2020-11-29T18:52:18.641245Z",
     "start_time": "2020-11-29T18:52:18.150531Z"
    }
   },
   "outputs": [],
   "source": [
    "for i in to_drop:\n",
    "    df.drop(df[df['discharge_disposition_id'] == i].index, inplace=True, axis=0)"
   ]
  },
  {
   "cell_type": "markdown",
   "metadata": {
    "ExecuteTime": {
     "end_time": "2020-11-21T06:58:55.986276Z",
     "start_time": "2020-11-21T06:58:55.982278Z"
    }
   },
   "source": [
    "#### A1c test result"
   ]
  },
  {
   "cell_type": "code",
   "execution_count": 57,
   "metadata": {
    "ExecuteTime": {
     "end_time": "2020-11-29T18:52:18.673243Z",
     "start_time": "2020-11-29T18:52:18.645242Z"
    }
   },
   "outputs": [
    {
     "data": {
      "text/plain": [
       "A1Cresult\n",
       ">7       2611\n",
       ">8       5610\n",
       "None    55092\n",
       "Norm     3542\n",
       "dtype: int64"
      ]
     },
     "execution_count": 57,
     "metadata": {},
     "output_type": "execute_result"
    }
   ],
   "source": [
    "ap=df.groupby(by=['A1Cresult'])\n",
    "ap.size()"
   ]
  },
  {
   "cell_type": "code",
   "execution_count": 58,
   "metadata": {
    "ExecuteTime": {
     "end_time": "2020-11-29T18:52:19.039032Z",
     "start_time": "2020-11-29T18:52:18.677224Z"
    }
   },
   "outputs": [
    {
     "data": {
      "text/plain": [
       "<matplotlib.axes._subplots.AxesSubplot at 0x280e9bf2240>"
      ]
     },
     "execution_count": 58,
     "metadata": {},
     "output_type": "execute_result"
    },
    {
     "data": {
      "image/png": "[encoded data removed]",
      "text/plain": [
       "<Figure size 432x288 with 1 Axes>"
      ]
     },
     "metadata": {},
     "output_type": "display_data"
    }
   ],
   "source": [
    "sns.countplot(df['A1Cresult'])"
   ]
  },
  {
   "cell_type": "markdown",
   "metadata": {
    "ExecuteTime": {
     "end_time": "2020-11-21T06:58:55.986276Z",
     "start_time": "2020-11-21T06:58:55.982278Z"
    }
   },
   "source": [
    "#### Encoding the remaining features"
   ]
  },
  {
   "cell_type": "code",
   "execution_count": 59,
   "metadata": {
    "ExecuteTime": {
     "end_time": "2020-11-29T18:52:19.165942Z",
     "start_time": "2020-11-29T18:52:19.042016Z"
    }
   },
   "outputs": [],
   "source": [
    "df[['readmitted']] = df[['readmitted']].replace('>30', '<30')"
   ]
  },
  {
   "cell_type": "code",
   "execution_count": 60,
   "metadata": {
    "ExecuteTime": {
     "end_time": "2020-11-29T18:52:19.355992Z",
     "start_time": "2020-11-29T18:52:19.169940Z"
    }
   },
   "outputs": [],
   "source": [
    "df.reset_index(drop=True, inplace=True)"
   ]
  },
  {
   "cell_type": "code",
   "execution_count": 61,
   "metadata": {
    "ExecuteTime": {
     "end_time": "2020-11-29T18:52:20.163141Z",
     "start_time": "2020-11-29T18:52:19.358976Z"
    }
   },
   "outputs": [],
   "source": [
    "# this will encode the values in alphabetical order. \n",
    "# It should be noted that the target variable \"readmitted\" will become <30:0, >30:1 and NO:2\n",
    "for i in df.columns[18:]:\n",
    "    df[i] = encoder.fit_transform(df[i])"
   ]
  },
  {
   "cell_type": "code",
   "execution_count": 62,
   "metadata": {
    "ExecuteTime": {
     "end_time": "2020-11-29T18:52:20.227108Z",
     "start_time": "2020-11-29T18:52:20.165144Z"
    }
   },
   "outputs": [
    {
     "name": "stdout",
     "output_type": "stream",
     "text": [
      "<class 'pandas.core.frame.DataFrame'>\n",
      "RangeIndex: 66855 entries, 0 to 66854\n",
      "Data columns (total 48 columns):\n",
      " #   Column                    Non-Null Count  Dtype\n",
      "---  ------                    --------------  -----\n",
      " 0   encounter_id              66855 non-null  int64\n",
      " 1   patient_nbr               66855 non-null  int64\n",
      " 2   race                      66855 non-null  int32\n",
      " 3   gender                    66855 non-null  int32\n",
      " 4   age                       66855 non-null  int32\n",
      " 5   admission_type_id         66855 non-null  int64\n",
      " 6   discharge_disposition_id  66855 non-null  int64\n",
      " 7   admission_source_id       66855 non-null  int64\n",
      " 8   time_in_hospital          66855 non-null  int64\n",
      " 9   medical_specialty         66855 non-null  int32\n",
      " 10  num_lab_procedures        66855 non-null  int64\n",
      " 11  num_procedures            66855 non-null  int64\n",
      " 12  num_medications           66855 non-null  int64\n",
      " 13  number_outpatient         66855 non-null  int64\n",
      " 14  number_emergency          66855 non-null  int64\n",
      " 15  number_inpatient          66855 non-null  int64\n",
      " 16  diag_1                    66855 non-null  int32\n",
      " 17  diag_2                    66855 non-null  int32\n",
      " 18  diag_3                    66855 non-null  int64\n",
      " 19  number_diagnoses          66855 non-null  int64\n",
      " 20  max_glu_serum             66855 non-null  int32\n",
      " 21  A1Cresult                 66855 non-null  int32\n",
      " 22  metformin                 66855 non-null  int32\n",
      " 23  repaglinide               66855 non-null  int32\n",
      " 24  nateglinide               66855 non-null  int32\n",
      " 25  chlorpropamide            66855 non-null  int32\n",
      " 26  glimepiride               66855 non-null  int32\n",
      " 27  acetohexamide             66855 non-null  int32\n",
      " 28  glipizide                 66855 non-null  int32\n",
      " 29  glyburide                 66855 non-null  int32\n",
      " 30  tolbutamide               66855 non-null  int32\n",
      " 31  pioglitazone              66855 non-null  int32\n",
      " 32  rosiglitazone             66855 non-null  int32\n",
      " 33  acarbose                  66855 non-null  int32\n",
      " 34  miglitol                  66855 non-null  int32\n",
      " 35  troglitazone              66855 non-null  int32\n",
      " 36  tolazamide                66855 non-null  int32\n",
      " 37  examide                   66855 non-null  int32\n",
      " 38  citoglipton               66855 non-null  int32\n",
      " 39  insulin                   66855 non-null  int32\n",
      " 40  glyburide-metformin       66855 non-null  int32\n",
      " 41  glipizide-metformin       66855 non-null  int32\n",
      " 42  glimepiride-pioglitazone  66855 non-null  int32\n",
      " 43  metformin-rosiglitazone   66855 non-null  int32\n",
      " 44  metformin-pioglitazone    66855 non-null  int32\n",
      " 45  change                    66855 non-null  int32\n",
      " 46  diabetesMed               66855 non-null  int32\n",
      " 47  readmitted                66855 non-null  int32\n",
      "dtypes: int32(34), int64(14)\n",
      "memory usage: 15.8 MB\n"
     ]
    }
   ],
   "source": [
    "df.info()"
   ]
  },
  {
   "cell_type": "code",
   "execution_count": 63,
   "metadata": {
    "ExecuteTime": {
     "end_time": "2020-11-29T18:52:25.800531Z",
     "start_time": "2020-11-29T18:52:20.229123Z"
    }
   },
   "outputs": [
    {
     "data": {
      "image/png": "[encoded data removed]",
      "text/plain": [
       "<Figure size 1080x1080 with 49 Axes>"
      ]
     },
     "metadata": {},
     "output_type": "display_data"
    }
   ],
   "source": [
    "## Visualizing the data\n",
    "df.hist(bins = 20,figsize = (15,15))\n",
    "plt.show()"
   ]
  },
  {
   "cell_type": "markdown",
   "metadata": {
    "ExecuteTime": {
     "end_time": "2020-11-21T06:58:55.986276Z",
     "start_time": "2020-11-21T06:58:55.982278Z"
    }
   },
   "source": [
    "#### Dropping irrelevant columns"
   ]
  },
  {
   "cell_type": "code",
   "execution_count": 64,
   "metadata": {
    "ExecuteTime": {
     "end_time": "2020-11-29T18:52:25.847520Z",
     "start_time": "2020-11-29T18:52:25.803529Z"
    }
   },
   "outputs": [],
   "source": [
    "df.drop(['encounter_id', 'patient_nbr'], axis=1, inplace=True)"
   ]
  },
  {
   "cell_type": "markdown",
   "metadata": {},
   "source": [
    "## Task 1"
   ]
  },
  {
   "cell_type": "markdown",
   "metadata": {},
   "source": [
    "### Imports"
   ]
  },
  {
   "cell_type": "code",
   "execution_count": 80,
   "metadata": {
    "ExecuteTime": {
     "end_time": "2020-11-29T19:06:24.532030Z",
     "start_time": "2020-11-29T19:06:24.517042Z"
    }
   },
   "outputs": [],
   "source": [
    "from sklearn.metrics import precision_score, recall_score, f1_score, roc_auc_score, accuracy_score, classification_report, confusion_matrix\n",
    "from imblearn.pipeline import make_pipeline as make_pipeline_imb\n",
    "from sklearn.pipeline import make_pipeline\n",
    "from sklearn import metrics\n",
    "from sklearn.model_selection import KFold, cross_validate, train_test_split\n",
    "from sklearn.preprocessing import StandardScaler\n",
    "from sklearn import tree\n",
    "import graphviz\n",
    "from sklearn.tree import DecisionTreeClassifier\n",
    "from sklearn.ensemble import RandomForestClassifier\n",
    "from sklearn.svm import SVC\n",
    "from xgboost import XGBClassifier\n",
    "from sklearn.linear_model import LogisticRegression\n",
    "from sklearn.feature_selection import SelectFromModel\n",
    "from sklearn.metrics import plot_confusion_matrix"
   ]
  },
  {
   "cell_type": "markdown",
   "metadata": {},
   "source": [
    "### Algorithms"
   ]
  },
  {
   "cell_type": "code",
   "execution_count": 66,
   "metadata": {
    "ExecuteTime": {
     "end_time": "2020-11-29T18:52:31.677010Z",
     "start_time": "2020-11-29T18:52:31.664020Z"
    },
    "code_folding": [
     0,
     13
    ]
   },
   "outputs": [],
   "source": [
    "def append_avgs(dict):\n",
    "    avgs = []\n",
    "    stds = []\n",
    "    for i in dict:\n",
    "        avg = np.average(dict[i])\n",
    "        std = np.std(dict[i])\n",
    "        avgs.append(avg)\n",
    "        stds.append(std)\n",
    "    df = pd.DataFrame(dict)\n",
    "    df.loc[10] = avgs\n",
    "    df.loc[11] = stds\n",
    "    return df\n",
    "\n",
    "def get_avg(df):\n",
    "    return df.iloc[[10]].reset_index(drop=True)\n",
    "\n",
    "def draw(dict):\n",
    "    folds = list(range(0,10))\n",
    "    plt.figure(figsize=(20,10))\n",
    "    plt.grid(True)\n",
    "    plt.plot(folds,dict['test_accuracy'][:10],label='accuracy',marker='o', linestyle='--',)\n",
    "    plt.plot(folds,dict['test_precision'][:10],label = 'precision',marker='o', linestyle='--',)\n",
    "    plt.plot(folds,dict['test_f1'][:10],label = 'f1 score',marker='o', linestyle='--',)\n",
    "    plt.plot(folds,dict['test_recall'][:10],label='Recall',marker='o', linestyle='--',)\n",
    "    plt.xlabel('Fold')\n",
    "    plt.ylabel('Performance')\n",
    "    plt.xticks(folds, folds)\n",
    "    plt.legend()\n",
    "    plt.show()"
   ]
  },
  {
   "cell_type": "code",
   "execution_count": 67,
   "metadata": {
    "ExecuteTime": {
     "end_time": "2020-11-29T18:52:31.852349Z",
     "start_time": "2020-11-29T18:52:31.679009Z"
    }
   },
   "outputs": [],
   "source": [
    "X = df.drop('readmitted', axis=1)\n",
    "y = df['readmitted']\n",
    "scoring = ['precision', 'recall', 'f1', 'accuracy']"
   ]
  },
  {
   "cell_type": "code",
   "execution_count": 68,
   "metadata": {
    "ExecuteTime": {
     "end_time": "2020-11-29T18:52:32.361161Z",
     "start_time": "2020-11-29T18:52:31.856330Z"
    }
   },
   "outputs": [
    {
     "data": {
      "text/plain": [
       "<matplotlib.axes._subplots.AxesSubplot at 0x280f2fb6f98>"
      ]
     },
     "execution_count": 68,
     "metadata": {},
     "output_type": "execute_result"
    },
    {
     "data": {
      "image/png": "[encoded data removed]",
      "text/plain": [
       "<Figure size 432x288 with 1 Axes>"
      ]
     },
     "metadata": {},
     "output_type": "display_data"
    }
   ],
   "source": [
    "sns.countplot(y)"
   ]
  },
  {
   "cell_type": "code",
   "execution_count": 69,
   "metadata": {
    "ExecuteTime": {
     "end_time": "2020-11-29T18:52:32.584034Z",
     "start_time": "2020-11-29T18:52:32.364161Z"
    }
   },
   "outputs": [],
   "source": [
    "sc = StandardScaler()\n",
    "\n",
    "X_train, X_test, y_train, y_test = train_test_split(X, y, test_size=0.333333, random_state=42)\n",
    "\n",
    "\n",
    "X_train = sc.fit_transform(X_train)\n",
    "X_test = sc.transform(X_test)"
   ]
  },
  {
   "cell_type": "markdown",
   "metadata": {},
   "source": [
    "#### DT"
   ]
  },
  {
   "cell_type": "code",
   "execution_count": 69,
   "metadata": {
    "ExecuteTime": {
     "end_time": "2020-11-29T18:01:40.298985Z",
     "start_time": "2020-11-29T18:01:39.654315Z"
    }
   },
   "outputs": [],
   "source": [
    "clf = make_pipeline(DecisionTreeClassifier(max_depth=6))\n",
    "dtc_sc = cross_validate(clf, X, y, cv=10, scoring=scoring)\n",
    "dtc_sc = append_avgs(dtc_sc)"
   ]
  },
  {
   "cell_type": "code",
   "execution_count": 70,
   "metadata": {
    "ExecuteTime": {
     "end_time": "2020-11-29T18:01:42.760510Z",
     "start_time": "2020-11-29T18:01:42.216697Z"
    },
    "scrolled": true
   },
   "outputs": [
    {
     "name": "stderr",
     "output_type": "stream",
     "text": [
      "H:\\Anaconda3\\lib\\site-packages\\matplotlib\\cbook\\__init__.py:2062: FutureWarning: Support for multi-dimensional indexing (e.g. `obj[:, None]`) is deprecated and will be removed in a future version.  Convert to a numpy array before indexing instead.\n",
      "  x[:, None]\n",
      "H:\\Anaconda3\\lib\\site-packages\\matplotlib\\axes\\_base.py:250: FutureWarning: Support for multi-dimensional indexing (e.g. `obj[:, None]`) is deprecated and will be removed in a future version.  Convert to a numpy array before indexing instead.\n",
      "  y = y[:, np.newaxis]\n"
     ]
    },
    {
     "data": {
      "image/png": "[encoded data removed]",
      "text/plain": [
       "<Figure size 1440x720 with 1 Axes>"
      ]
     },
     "metadata": {},
     "output_type": "display_data"
    }
   ],
   "source": [
    "draw(dtc_sc)"
   ]
  },
  {
   "cell_type": "code",
   "execution_count": 71,
   "metadata": {
    "ExecuteTime": {
     "end_time": "2020-11-29T18:01:46.756886Z",
     "start_time": "2020-11-29T18:01:46.728888Z"
    }
   },
   "outputs": [
    {
     "data": {
      "text/html": [
       "<div>\n",
       "<style scoped>\n",
       "    .dataframe tbody tr th:only-of-type {\n",
       "        vertical-align: middle;\n",
       "    }\n",
       "\n",
       "    .dataframe tbody tr th {\n",
       "        vertical-align: top;\n",
       "    }\n",
       "\n",
       "    .dataframe thead th {\n",
       "        text-align: right;\n",
       "    }\n",
       "</style>\n",
       "<table border=\"1\" class=\"dataframe\">\n",
       "  <thead>\n",
       "    <tr style=\"text-align: right;\">\n",
       "      <th></th>\n",
       "      <th>fit_time</th>\n",
       "      <th>score_time</th>\n",
       "      <th>test_precision</th>\n",
       "      <th>test_recall</th>\n",
       "      <th>test_f1</th>\n",
       "      <th>test_accuracy</th>\n",
       "    </tr>\n",
       "  </thead>\n",
       "  <tbody>\n",
       "    <tr>\n",
       "      <th>0</th>\n",
       "      <td>0.069955</td>\n",
       "      <td>0.007996</td>\n",
       "      <td>0.780037</td>\n",
       "      <td>0.943017</td>\n",
       "      <td>0.853819</td>\n",
       "      <td>0.754460</td>\n",
       "    </tr>\n",
       "    <tr>\n",
       "      <th>1</th>\n",
       "      <td>0.059964</td>\n",
       "      <td>0.008997</td>\n",
       "      <td>0.765584</td>\n",
       "      <td>0.974302</td>\n",
       "      <td>0.857424</td>\n",
       "      <td>0.753611</td>\n",
       "    </tr>\n",
       "    <tr>\n",
       "      <th>2</th>\n",
       "      <td>0.049972</td>\n",
       "      <td>0.007994</td>\n",
       "      <td>0.783036</td>\n",
       "      <td>0.979888</td>\n",
       "      <td>0.870471</td>\n",
       "      <td>0.778250</td>\n",
       "    </tr>\n",
       "    <tr>\n",
       "      <th>3</th>\n",
       "      <td>0.049971</td>\n",
       "      <td>0.007995</td>\n",
       "      <td>0.770063</td>\n",
       "      <td>0.954190</td>\n",
       "      <td>0.852295</td>\n",
       "      <td>0.748299</td>\n",
       "    </tr>\n",
       "    <tr>\n",
       "      <th>4</th>\n",
       "      <td>0.050969</td>\n",
       "      <td>0.006996</td>\n",
       "      <td>0.779221</td>\n",
       "      <td>0.938547</td>\n",
       "      <td>0.851495</td>\n",
       "      <td>0.750850</td>\n",
       "    </tr>\n",
       "    <tr>\n",
       "      <th>5</th>\n",
       "      <td>0.050972</td>\n",
       "      <td>0.008994</td>\n",
       "      <td>0.778179</td>\n",
       "      <td>0.964246</td>\n",
       "      <td>0.861277</td>\n",
       "      <td>0.763605</td>\n",
       "    </tr>\n",
       "    <tr>\n",
       "      <th>6</th>\n",
       "      <td>0.050987</td>\n",
       "      <td>0.006996</td>\n",
       "      <td>0.764292</td>\n",
       "      <td>0.970950</td>\n",
       "      <td>0.855315</td>\n",
       "      <td>0.750000</td>\n",
       "    </tr>\n",
       "    <tr>\n",
       "      <th>7</th>\n",
       "      <td>0.051955</td>\n",
       "      <td>0.007994</td>\n",
       "      <td>0.765883</td>\n",
       "      <td>0.983240</td>\n",
       "      <td>0.861057</td>\n",
       "      <td>0.758503</td>\n",
       "    </tr>\n",
       "    <tr>\n",
       "      <th>8</th>\n",
       "      <td>0.050972</td>\n",
       "      <td>0.008995</td>\n",
       "      <td>0.765018</td>\n",
       "      <td>0.967598</td>\n",
       "      <td>0.854465</td>\n",
       "      <td>0.749150</td>\n",
       "    </tr>\n",
       "    <tr>\n",
       "      <th>9</th>\n",
       "      <td>0.049973</td>\n",
       "      <td>0.009008</td>\n",
       "      <td>0.763021</td>\n",
       "      <td>0.982123</td>\n",
       "      <td>0.858818</td>\n",
       "      <td>0.754252</td>\n",
       "    </tr>\n",
       "    <tr>\n",
       "      <th>10</th>\n",
       "      <td>0.053569</td>\n",
       "      <td>0.008196</td>\n",
       "      <td>0.771433</td>\n",
       "      <td>0.965810</td>\n",
       "      <td>0.857644</td>\n",
       "      <td>0.756098</td>\n",
       "    </tr>\n",
       "    <tr>\n",
       "      <th>11</th>\n",
       "      <td>0.006146</td>\n",
       "      <td>0.000750</td>\n",
       "      <td>0.007380</td>\n",
       "      <td>0.015067</td>\n",
       "      <td>0.005361</td>\n",
       "      <td>0.008596</td>\n",
       "    </tr>\n",
       "  </tbody>\n",
       "</table>\n",
       "</div>"
      ],
      "text/plain": [
       "    fit_time  score_time  test_precision  test_recall   test_f1  test_accuracy\n",
       "0   0.069955    0.007996        0.780037     0.943017  0.853819       0.754460\n",
       "1   0.059964    0.008997        0.765584     0.974302  0.857424       0.753611\n",
       "2   0.049972    0.007994        0.783036     0.979888  0.870471       0.778250\n",
       "3   0.049971    0.007995        0.770063     0.954190  0.852295       0.748299\n",
       "4   0.050969    0.006996        0.779221     0.938547  0.851495       0.750850\n",
       "5   0.050972    0.008994        0.778179     0.964246  0.861277       0.763605\n",
       "6   0.050987    0.006996        0.764292     0.970950  0.855315       0.750000\n",
       "7   0.051955    0.007994        0.765883     0.983240  0.861057       0.758503\n",
       "8   0.050972    0.008995        0.765018     0.967598  0.854465       0.749150\n",
       "9   0.049973    0.009008        0.763021     0.982123  0.858818       0.754252\n",
       "10  0.053569    0.008196        0.771433     0.965810  0.857644       0.756098\n",
       "11  0.006146    0.000750        0.007380     0.015067  0.005361       0.008596"
      ]
     },
     "execution_count": 71,
     "metadata": {},
     "output_type": "execute_result"
    }
   ],
   "source": [
    "dtc_sc"
   ]
  },
  {
   "cell_type": "code",
   "execution_count": 62,
   "metadata": {
    "ExecuteTime": {
     "end_time": "2020-11-29T12:57:56.811151Z",
     "start_time": "2020-11-29T12:57:45.416719Z"
    }
   },
   "outputs": [
    {
     "name": "stdout",
     "output_type": "stream",
     "text": [
      "depth = 1 accuracy: 0.755844738613417 precision: 0.755844738613417 recall: 0.755844738613417 f1_score: 0.4304735618083774\n",
      "depth = 2 accuracy: 0.759255104330267 precision: 0.759255104330267 recall: 0.759255104330267 f1_score: 0.47225013072355215\n",
      "depth = 3 accuracy: 0.759255104330267 precision: 0.759255104330267 recall: 0.759255104330267 f1_score: 0.47225013072355215\n",
      "depth = 4 accuracy: 0.759165357864034 precision: 0.759165357864034 recall: 0.759165357864034 f1_score: 0.4698980999702332\n",
      "depth = 5 accuracy: 0.7587614987659861 precision: 0.7587614987659861 recall: 0.7587614987659861 f1_score: 0.47001415924355405\n",
      "depth = 6 accuracy: 0.7592999775633834 precision: 0.7592999775633834 recall: 0.7592999775633834 f1_score: 0.4884925223047134\n",
      "depth = 7 accuracy: 0.7566075835763967 precision: 0.7566075835763967 recall: 0.7566075835763967 f1_score: 0.4986589022857641\n",
      "depth = 8 accuracy: 0.7564280906439309 precision: 0.7564280906439309 recall: 0.7564280906439309 f1_score: 0.5114211065664485\n",
      "depth = 9 accuracy: 0.7555306259816019 precision: 0.7555306259816019 recall: 0.7555306259816019 f1_score: 0.5113635196466279\n",
      "depth = 10 accuracy: 0.7524792461296836 precision: 0.7524792461296836 recall: 0.7524792461296836 f1_score: 0.5080056980440117\n",
      "depth = 11 accuracy: 0.7500112183082791 precision: 0.7500112183082791 recall: 0.7500112183082791 f1_score: 0.5079755588368264\n",
      "depth = 12 accuracy: 0.7455238949966345 precision: 0.7455238949966345 recall: 0.7455238949966345 f1_score: 0.5169255309358991\n",
      "depth = 13 accuracy: 0.7398698676239623 precision: 0.7398698676239623 recall: 0.7398698676239623 f1_score: 0.5232292895154136\n",
      "depth = 14 accuracy: 0.7377159524343729 precision: 0.7377159524343729 recall: 0.7377159524343729 f1_score: 0.5196010935551388\n",
      "depth = 15 accuracy: 0.7309400942337896 precision: 0.7309400942337896 recall: 0.7309400942337896 f1_score: 0.5266075591011176\n"
     ]
    },
    {
     "data": {
      "image/png": "[encoded data removed]",
      "text/plain": [
       "<Figure size 1440x720 with 1 Axes>"
      ]
     },
     "metadata": {},
     "output_type": "display_data"
    }
   ],
   "source": [
    "max_depth = [1,2,3,4,5,6,7,8,9,10,11,12,13,14,15]\n",
    "def DT(x_train, x_test, y_train, y_test):\n",
    "    acc_list = []\n",
    "    pre_list = []\n",
    "    rec_list = []\n",
    "    f1_list = []\n",
    "    for i in max_depth:\n",
    "        clf = DecisionTreeClassifier(max_depth=i)\n",
    "        clf.fit(x_train, y_train)\n",
    "        prediction = clf.predict(x_test)\n",
    "#         print(\"------RandomForest---------Evaluate----------------\")\n",
    "        recall = recall_score(y_test, prediction,average='micro')\n",
    "        accuracy = accuracy_score(y_test, prediction)\n",
    "#         cross_val = cross_val_score(clf, train_x, train_y, cv=10,scoring='accuracy')\n",
    "        precision = precision_score(y_test, prediction,average='micro')\n",
    "        f1 = f1_score(y_test, prediction, average='macro')\n",
    "        acc_list.append(accuracy)\n",
    "        pre_list.append(precision)\n",
    "        f1_list.append(f1)\n",
    "        rec_list.append(recall)\n",
    "        print('depth =',i,'accuracy:',accuracy,'precision:',precision,'recall:',recall,'f1_score:',f1 )\n",
    "    return acc_list, pre_list, f1_list, rec_list\n",
    "\n",
    "accuracy_RF, precision_RF, f1_score_RF, recall_RF = DT(X_train, X_test, y_train, y_test)\n",
    "plt.figure(figsize=(20,10))\n",
    "plt.grid(True)\n",
    "plt.plot(max_depth,accuracy_RF,label='accuracy',marker='o', linestyle='--',)\n",
    "plt.plot(max_depth,precision_RF,label = 'precision',marker='o', linestyle='--',)\n",
    "plt.plot(max_depth, f1_score_RF,label = 'f1 score',marker='o', linestyle='--',)\n",
    "plt.plot(max_depth, recall_RF,label='Recall',marker='o', linestyle='--',)\n",
    "plt.xlabel('Max_depth')\n",
    "plt.ylabel('Performance')\n",
    "plt.xticks(max_depth, max_depth)\n",
    "plt.legend()\n",
    "plt.show()\n"
   ]
  },
  {
   "cell_type": "code",
   "execution_count": 63,
   "metadata": {
    "ExecuteTime": {
     "end_time": "2020-11-29T12:57:56.826142Z",
     "start_time": "2020-11-29T12:57:56.814149Z"
    }
   },
   "outputs": [
    {
     "name": "stdout",
     "output_type": "stream",
     "text": [
      "best estimator: 6\n",
      "best estimator: 6\n",
      "0.7592999775633834\n",
      "0.7592999775633834\n",
      "0.5266075591011176\n",
      "0.7592999775633834\n"
     ]
    }
   ],
   "source": [
    "print('best estimator:',accuracy_RF.index(max(accuracy_RF))+1)\n",
    "print('best estimator:',precision_RF.index(max(precision_RF))+1)\n",
    "print(max(accuracy_RF))\n",
    "print(max(precision_RF))\n",
    "print(max(f1_score_RF))\n",
    "print(max(recall_RF))"
   ]
  },
  {
   "cell_type": "code",
   "execution_count": 72,
   "metadata": {
    "ExecuteTime": {
     "end_time": "2020-11-29T18:01:55.964727Z",
     "start_time": "2020-11-29T18:01:55.875793Z"
    }
   },
   "outputs": [
    {
     "data": {
      "text/plain": [
       "DecisionTreeClassifier(max_depth=6)"
      ]
     },
     "execution_count": 72,
     "metadata": {},
     "output_type": "execute_result"
    }
   ],
   "source": [
    "dtc_ovo = DecisionTreeClassifier(max_depth=6)\n",
    "\n",
    "dtc_ovo.fit(X_train, y_train)"
   ]
  },
  {
   "cell_type": "code",
   "execution_count": 73,
   "metadata": {
    "ExecuteTime": {
     "end_time": "2020-11-29T18:01:59.036860Z",
     "start_time": "2020-11-29T18:01:58.999866Z"
    }
   },
   "outputs": [
    {
     "name": "stdout",
     "output_type": "stream",
     "text": [
      "The DTC: Score on test Data: 0.7626\n",
      "              precision    recall  f1-score   support\n",
      "\n",
      "           0       0.47      0.08      0.13       921\n",
      "           1       0.77      0.97      0.86      3000\n",
      "\n",
      "    accuracy                           0.76      3921\n",
      "   macro avg       0.62      0.52      0.50      3921\n",
      "weighted avg       0.70      0.76      0.69      3921\n",
      "\n",
      "[[  70  851]\n",
      " [  80 2920]]\n"
     ]
    }
   ],
   "source": [
    "dtc_ovo_pred = dtc_ovo.predict(X_test)\n",
    "dtc_ovo_score = dtc_ovo.score(X_test, y_test)\n",
    "dtc_ovo_pred_prob = dtc_ovo.predict_proba(X_test)\n",
    "\n",
    "print(\"The DTC: Score on test Data: {:.4f}\".format(dtc_ovo_score))\n",
    "print(classification_report(y_test, dtc_ovo_pred, zero_division=0)) \n",
    "print(confusion_matrix(y_test, dtc_ovo_pred)) "
   ]
  },
  {
   "cell_type": "code",
   "execution_count": null,
   "metadata": {
    "ExecuteTime": {
     "end_time": "2020-11-29T12:33:33.484670Z",
     "start_time": "2020-11-29T12:32:25.025Z"
    }
   },
   "outputs": [],
   "source": [
    "dot_data1 = tree.export_graphviz(dtc_ovo, out_file=None,\n",
    "                                feature_names=X.columns,\n",
    "                                class_names=[\"0\",\"1\",\"2\"],\n",
    "                                filled=True, rounded=True, \n",
    "                                special_characters=True)  \n",
    "graph1 = graphviz.Source(dot_data1)  \n",
    "graph1 "
   ]
  },
  {
   "cell_type": "markdown",
   "metadata": {},
   "source": [
    "#### Logistic Regression"
   ]
  },
  {
   "cell_type": "code",
   "execution_count": 74,
   "metadata": {
    "ExecuteTime": {
     "end_time": "2020-11-29T18:02:11.783557Z",
     "start_time": "2020-11-29T18:02:11.736571Z"
    }
   },
   "outputs": [
    {
     "data": {
      "text/plain": [
       "LogisticRegression()"
      ]
     },
     "execution_count": 74,
     "metadata": {},
     "output_type": "execute_result"
    }
   ],
   "source": [
    "clf = LogisticRegression()\n",
    "\n",
    "\n",
    "clf.fit(X_train, y_train)"
   ]
  },
  {
   "cell_type": "code",
   "execution_count": 75,
   "metadata": {
    "ExecuteTime": {
     "end_time": "2020-11-29T18:02:12.851821Z",
     "start_time": "2020-11-29T18:02:12.820840Z"
    }
   },
   "outputs": [
    {
     "name": "stdout",
     "output_type": "stream",
     "text": [
      "The LR: Score on test Data: 0.7646\n",
      "              precision    recall  f1-score   support\n",
      "\n",
      "           0       0.49      0.06      0.11       921\n",
      "           1       0.77      0.98      0.86      3000\n",
      "\n",
      "    accuracy                           0.76      3921\n",
      "   macro avg       0.63      0.52      0.49      3921\n",
      "weighted avg       0.71      0.76      0.69      3921\n",
      "\n",
      "[[  58  863]\n",
      " [  60 2940]]\n"
     ]
    }
   ],
   "source": [
    "lr_pred = clf.predict(X_test)\n",
    "lr_score = clf.score(X_test, y_test)\n",
    "\n",
    "print(\"The LR: Score on test Data: {:.4f}\".format(lr_score))\n",
    "print(classification_report(y_test, lr_pred, zero_division=0)) \n",
    "print(confusion_matrix(y_test, lr_pred)) "
   ]
  },
  {
   "cell_type": "markdown",
   "metadata": {},
   "source": [
    "#### XGBoost"
   ]
  },
  {
   "cell_type": "code",
   "execution_count": 75,
   "metadata": {
    "ExecuteTime": {
     "end_time": "2020-11-29T12:50:24.787714Z",
     "start_time": "2020-11-29T12:43:30.362606Z"
    }
   },
   "outputs": [
    {
     "data": {
      "text/plain": [
       "XGBClassifier(base_score=0.5, booster='gbtree', colsample_bylevel=1,\n",
       "              colsample_bynode=1, colsample_bytree=1, gamma=0, gpu_id=-1,\n",
       "              importance_type='gain', interaction_constraints='',\n",
       "              learning_rate=0.300000012, max_delta_step=0, max_depth=6,\n",
       "              min_child_weight=1, missing=nan, monotone_constraints='()',\n",
       "              n_estimators=100, n_jobs=0, num_parallel_tree=1,\n",
       "              objective='multi:softprob', random_state=0, reg_alpha=0,\n",
       "              reg_lambda=1, scale_pos_weight=None, subsample=1,\n",
       "              tree_method='exact', validate_parameters=1, verbosity=None)"
      ]
     },
     "execution_count": 75,
     "metadata": {},
     "output_type": "execute_result"
    }
   ],
   "source": [
    "clf = XGBClassifier()\n",
    "\n",
    "clf.fit(X_train, y_train)"
   ]
  },
  {
   "cell_type": "code",
   "execution_count": 76,
   "metadata": {
    "ExecuteTime": {
     "end_time": "2020-11-29T12:50:25.924060Z",
     "start_time": "2020-11-29T12:50:24.790714Z"
    }
   },
   "outputs": [
    {
     "name": "stdout",
     "output_type": "stream",
     "text": [
      "The XGB: Score on test Data: 0.7524\n",
      "              precision    recall  f1-score   support\n",
      "\n",
      "           0       0.34      0.03      0.05      1181\n",
      "           1       0.46      0.09      0.15      3587\n",
      "           2       0.77      0.98      0.86     14309\n",
      "\n",
      "    accuracy                           0.75     19077\n",
      "   macro avg       0.52      0.37      0.35     19077\n",
      "weighted avg       0.68      0.75      0.68     19077\n",
      "\n",
      "[[   30   110  1041]\n",
      " [   25   332  3230]\n",
      " [   33   284 13992]]\n"
     ]
    }
   ],
   "source": [
    "xgb_pred = clf.predict(X_test)\n",
    "xgb_score = clf.score(X_test, y_test)\n",
    "#xgb_ovo_pred_prob = dtc_ovo.predict_proba(X_test)\n",
    "\n",
    "print(\"The XGB: Score on test Data: {:.4f}\".format(xgb_score))\n",
    "print(classification_report(y_test, xgb_pred, zero_division=0)) \n",
    "print(confusion_matrix(y_test, xgb_pred)) "
   ]
  },
  {
   "cell_type": "markdown",
   "metadata": {},
   "source": [
    "#### Random Forest"
   ]
  },
  {
   "cell_type": "code",
   "execution_count": null,
   "metadata": {
    "ExecuteTime": {
     "end_time": "2020-11-29T12:33:33.490667Z",
     "start_time": "2020-11-29T12:32:25.056Z"
    }
   },
   "outputs": [],
   "source": [
    "clf = RandomForestClassifier(random_state=42)\n",
    "\n",
    "clf.fit(X_train, y_train)"
   ]
  },
  {
   "cell_type": "code",
   "execution_count": null,
   "metadata": {
    "ExecuteTime": {
     "end_time": "2020-11-29T12:33:33.492666Z",
     "start_time": "2020-11-29T12:32:25.062Z"
    }
   },
   "outputs": [],
   "source": [
    "rfc_pred = clf.predict(X_test)\n",
    "rfc_score = clf.score(X_test, y_test)\n",
    "\n",
    "print(\"The RFC: Score on test Data: {:.4f}\".format(rfc_score))\n",
    "print(classification_report(y_test, rfc_pred, zero_division=0)) \n",
    "print(confusion_matrix(y_test, rfc_pred)) "
   ]
  },
  {
   "cell_type": "markdown",
   "metadata": {},
   "source": [
    "#### Additional test"
   ]
  },
  {
   "cell_type": "code",
   "execution_count": 65,
   "metadata": {
    "ExecuteTime": {
     "end_time": "2020-11-29T18:08:14.343540Z",
     "start_time": "2020-11-29T18:08:14.078488Z"
    }
   },
   "outputs": [
    {
     "data": {
      "text/plain": [
       "<matplotlib.axes._subplots.AxesSubplot at 0x1b096926940>"
      ]
     },
     "execution_count": 65,
     "metadata": {},
     "output_type": "execute_result"
    },
    {
     "data": {
      "image/png": "[encoded data removed]",
      "text/plain": [
       "<Figure size 432x288 with 1 Axes>"
      ]
     },
     "metadata": {},
     "output_type": "display_data"
    }
   ],
   "source": [
    "sns.countplot(df['A1Cresult'])"
   ]
  },
  {
   "cell_type": "code",
   "execution_count": 67,
   "metadata": {
    "ExecuteTime": {
     "end_time": "2020-11-29T18:09:01.770870Z",
     "start_time": "2020-11-29T18:09:01.757894Z"
    }
   },
   "outputs": [],
   "source": [
    "df1 = df.drop(df[df['A1Cresult'] == '2'].index, axis=0)\n",
    "\n",
    "df1.reset_index(drop=True, inplace=True)"
   ]
  },
  {
   "cell_type": "code",
   "execution_count": 71,
   "metadata": {
    "ExecuteTime": {
     "end_time": "2020-11-29T18:11:19.049466Z",
     "start_time": "2020-11-29T18:11:19.019486Z"
    }
   },
   "outputs": [],
   "source": [
    "X1 = df1.drop('readmitted', axis=1)\n",
    "y1 = df1['readmitted']\n",
    "scoring = ['precision', 'recall', 'f1', 'accuracy']"
   ]
  },
  {
   "cell_type": "code",
   "execution_count": 72,
   "metadata": {
    "ExecuteTime": {
     "end_time": "2020-11-29T18:11:19.874370Z",
     "start_time": "2020-11-29T18:11:19.651488Z"
    }
   },
   "outputs": [],
   "source": [
    "sc = StandardScaler()\n",
    "\n",
    "X_train1, X_test1, y_train1, y_test1 = train_test_split(X1, y1, test_size=0.333333, random_state=42)\n",
    "\n",
    "\n",
    "X_train1 = sc.fit_transform(X_train1)\n",
    "X_test1 = sc.transform(X_test1)"
   ]
  },
  {
   "cell_type": "markdown",
   "metadata": {},
   "source": [
    "##### Random Forest"
   ]
  },
  {
   "cell_type": "code",
   "execution_count": 73,
   "metadata": {
    "ExecuteTime": {
     "end_time": "2020-11-29T18:12:29.064901Z",
     "start_time": "2020-11-29T18:12:18.438015Z"
    }
   },
   "outputs": [
    {
     "data": {
      "text/plain": [
       "RandomForestClassifier(random_state=42)"
      ]
     },
     "execution_count": 73,
     "metadata": {},
     "output_type": "execute_result"
    }
   ],
   "source": [
    "clf = RandomForestClassifier(random_state=42)\n",
    "\n",
    "clf.fit(X_train1, y_train1)"
   ]
  },
  {
   "cell_type": "code",
   "execution_count": 74,
   "metadata": {
    "ExecuteTime": {
     "end_time": "2020-11-29T18:12:31.263633Z",
     "start_time": "2020-11-29T18:12:29.067883Z"
    }
   },
   "outputs": [
    {
     "name": "stdout",
     "output_type": "stream",
     "text": [
      "The RFC: Score on test Data: 0.7629\n",
      "              precision    recall  f1-score   support\n",
      "\n",
      "           0       0.60      0.09      0.15      5441\n",
      "           1       0.77      0.98      0.86     16844\n",
      "\n",
      "    accuracy                           0.76     22285\n",
      "   macro avg       0.68      0.53      0.51     22285\n",
      "weighted avg       0.73      0.76      0.69     22285\n",
      "\n",
      "[[  482  4959]\n",
      " [  324 16520]]\n"
     ]
    }
   ],
   "source": [
    "rfc_pred1 = clf.predict(X_test1)\n",
    "rfc_score1 = clf.score(X_test1, y_test1)\n",
    "\n",
    "print(\"The RFC: Score on test Data: {:.4f}\".format(rfc_score1))\n",
    "print(classification_report(y_test1, rfc_pred1, zero_division=0)) \n",
    "print(confusion_matrix(y_test1, rfc_pred1)) "
   ]
  },
  {
   "cell_type": "markdown",
   "metadata": {},
   "source": [
    "## Task 2"
   ]
  },
  {
   "cell_type": "code",
   "execution_count": 80,
   "metadata": {
    "ExecuteTime": {
     "end_time": "2020-11-29T18:18:00.130468Z",
     "start_time": "2020-11-29T18:18:00.104467Z"
    }
   },
   "outputs": [],
   "source": [
    "X_1 = df.drop('admission_type_id', axis=1)\n",
    "y_1 = df['admission_type_id']\n",
    "scoring = ['precision', 'recall', 'f1', 'accuracy']"
   ]
  },
  {
   "cell_type": "code",
   "execution_count": 81,
   "metadata": {
    "ExecuteTime": {
     "end_time": "2020-11-29T18:18:00.981271Z",
     "start_time": "2020-11-29T18:18:00.763355Z"
    }
   },
   "outputs": [],
   "source": [
    "sc = StandardScaler()\n",
    "\n",
    "X_train_1, X_test_1, y_train_1, y_test_1 = train_test_split(X_1, y_1, test_size=0.333333, random_state=42)\n",
    "\n",
    "\n",
    "X_train_1 = sc.fit_transform(X_train_1)\n",
    "X_test_1 = sc.transform(X_test_1)"
   ]
  },
  {
   "cell_type": "markdown",
   "metadata": {},
   "source": [
    "#### DT"
   ]
  },
  {
   "cell_type": "code",
   "execution_count": 82,
   "metadata": {
    "ExecuteTime": {
     "end_time": "2020-11-29T18:18:02.251736Z",
     "start_time": "2020-11-29T18:18:02.004865Z"
    }
   },
   "outputs": [
    {
     "data": {
      "text/plain": [
       "DecisionTreeClassifier(max_depth=6)"
      ]
     },
     "execution_count": 82,
     "metadata": {},
     "output_type": "execute_result"
    }
   ],
   "source": [
    "dtc_ovo_1 = DecisionTreeClassifier(max_depth=6)\n",
    "\n",
    "dtc_ovo_1.fit(X_train_1, y_train_1)"
   ]
  },
  {
   "cell_type": "code",
   "execution_count": 83,
   "metadata": {
    "ExecuteTime": {
     "end_time": "2020-11-29T18:18:03.084237Z",
     "start_time": "2020-11-29T18:18:02.963308Z"
    }
   },
   "outputs": [
    {
     "name": "stdout",
     "output_type": "stream",
     "text": [
      "The DTC: Score on test Data: 0.7849\n",
      "              precision    recall  f1-score   support\n",
      "\n",
      "           1       0.91      0.93      0.92     11556\n",
      "           2       0.64      0.36      0.46      4135\n",
      "           3       0.58      0.86      0.70      4299\n",
      "           4       0.00      0.00      0.00         3\n",
      "           5       0.72      0.62      0.66       924\n",
      "           6       0.98      0.81      0.89      1259\n",
      "           7       0.00      0.00      0.00         5\n",
      "           8       0.00      0.00      0.00       104\n",
      "\n",
      "    accuracy                           0.78     22285\n",
      "   macro avg       0.48      0.45      0.45     22285\n",
      "weighted avg       0.79      0.78      0.77     22285\n",
      "\n",
      "[[10710   369   333     0   136     8     0     0]\n",
      " [  743  1482  1864     0    39     7     0     0]\n",
      " [  140   440  3712     0     5     2     0     0]\n",
      " [    1     2     0     0     0     0     0     0]\n",
      " [   24     1   324     0   571     4     0     0]\n",
      " [  102    16    81     0    43  1017     0     0]\n",
      " [    5     0     0     0     0     0     0     0]\n",
      " [   44     0    60     0     0     0     0     0]]\n"
     ]
    },
    {
     "name": "stderr",
     "output_type": "stream",
     "text": [
      "H:\\Anaconda3\\lib\\site-packages\\sklearn\\metrics\\_classification.py:1221: UndefinedMetricWarning: Precision and F-score are ill-defined and being set to 0.0 in labels with no predicted samples. Use `zero_division` parameter to control this behavior.\n",
      "  _warn_prf(average, modifier, msg_start, len(result))\n",
      "H:\\Anaconda3\\lib\\site-packages\\sklearn\\metrics\\_classification.py:1221: UndefinedMetricWarning: Precision and F-score are ill-defined and being set to 0.0 in labels with no predicted samples. Use `zero_division` parameter to control this behavior.\n",
      "  _warn_prf(average, modifier, msg_start, len(result))\n",
      "H:\\Anaconda3\\lib\\site-packages\\sklearn\\metrics\\_classification.py:1221: UndefinedMetricWarning: Precision and F-score are ill-defined and being set to 0.0 in labels with no predicted samples. Use `zero_division` parameter to control this behavior.\n",
      "  _warn_prf(average, modifier, msg_start, len(result))\n"
     ]
    }
   ],
   "source": [
    "dtc_ovo_pred = dtc_ovo_1.predict(X_test_1)\n",
    "dtc_ovo_score = dtc_ovo_1.score(X_test_1, y_test_1)\n",
    "dtc_ovo_pred_prob = dtc_ovo_1.predict_proba(X_test_1)\n",
    "\n",
    "print(\"The DTC: Score on test Data: {:.4f}\".format(dtc_ovo_score))\n",
    "print(classification_report(y_test_1, dtc_ovo_pred, zero_division=0)) \n",
    "print(confusion_matrix(y_test_1, dtc_ovo_pred)) "
   ]
  },
  {
   "cell_type": "markdown",
   "metadata": {},
   "source": [
    "#### Logistic Regression"
   ]
  },
  {
   "cell_type": "code",
   "execution_count": 74,
   "metadata": {
    "ExecuteTime": {
     "end_time": "2020-11-29T18:02:11.783557Z",
     "start_time": "2020-11-29T18:02:11.736571Z"
    }
   },
   "outputs": [
    {
     "data": {
      "text/plain": [
       "LogisticRegression()"
      ]
     },
     "execution_count": 74,
     "metadata": {},
     "output_type": "execute_result"
    }
   ],
   "source": [
    "clf = LogisticRegression()\n",
    "\n",
    "\n",
    "clf.fit(X_train_1, y_train_1)"
   ]
  },
  {
   "cell_type": "code",
   "execution_count": 75,
   "metadata": {
    "ExecuteTime": {
     "end_time": "2020-11-29T18:02:12.851821Z",
     "start_time": "2020-11-29T18:02:12.820840Z"
    }
   },
   "outputs": [
    {
     "name": "stdout",
     "output_type": "stream",
     "text": [
      "The LR: Score on test Data: 0.7646\n",
      "              precision    recall  f1-score   support\n",
      "\n",
      "           0       0.49      0.06      0.11       921\n",
      "           1       0.77      0.98      0.86      3000\n",
      "\n",
      "    accuracy                           0.76      3921\n",
      "   macro avg       0.63      0.52      0.49      3921\n",
      "weighted avg       0.71      0.76      0.69      3921\n",
      "\n",
      "[[  58  863]\n",
      " [  60 2940]]\n"
     ]
    }
   ],
   "source": [
    "lr_pred = clf.predict(X_test_1)\n",
    "lr_score = clf.score(X_test_1, y_test_1)\n",
    "\n",
    "print(\"The LR: Score on test Data: {:.4f}\".format(lr_score))\n",
    "print(classification_report(y_test_1, lr_pred, zero_division=0)) \n",
    "print(confusion_matrix(y_test_1, lr_pred)) "
   ]
  },
  {
   "cell_type": "markdown",
   "metadata": {},
   "source": [
    "#### XGBoost"
   ]
  },
  {
   "cell_type": "code",
   "execution_count": 84,
   "metadata": {
    "ExecuteTime": {
     "end_time": "2020-11-29T18:19:04.702978Z",
     "start_time": "2020-11-29T18:18:39.219144Z"
    }
   },
   "outputs": [
    {
     "data": {
      "text/plain": [
       "XGBClassifier(base_score=0.5, booster='gbtree', colsample_bylevel=1,\n",
       "              colsample_bynode=1, colsample_bytree=1, gamma=0, gpu_id=-1,\n",
       "              importance_type='gain', interaction_constraints='',\n",
       "              learning_rate=0.300000012, max_delta_step=0, max_depth=6,\n",
       "              min_child_weight=1, missing=nan, monotone_constraints='()',\n",
       "              n_estimators=100, n_jobs=0, num_parallel_tree=1,\n",
       "              objective='multi:softprob', random_state=0, reg_alpha=0,\n",
       "              reg_lambda=1, scale_pos_weight=None, subsample=1,\n",
       "              tree_method='exact', validate_parameters=1, verbosity=None)"
      ]
     },
     "execution_count": 84,
     "metadata": {},
     "output_type": "execute_result"
    }
   ],
   "source": [
    "clf = XGBClassifier()\n",
    "\n",
    "clf.fit(X_train_1, y_train_1)"
   ]
  },
  {
   "cell_type": "code",
   "execution_count": 85,
   "metadata": {
    "ExecuteTime": {
     "end_time": "2020-11-29T18:19:14.803988Z",
     "start_time": "2020-11-29T18:19:13.926493Z"
    }
   },
   "outputs": [
    {
     "name": "stdout",
     "output_type": "stream",
     "text": [
      "The XGB: Score on test Data: 0.8207\n",
      "              precision    recall  f1-score   support\n",
      "\n",
      "           1       0.92      0.93      0.92     11556\n",
      "           2       0.63      0.58      0.61      4135\n",
      "           3       0.72      0.78      0.75      4299\n",
      "           4       0.00      0.00      0.00         3\n",
      "           5       0.72      0.69      0.70       924\n",
      "           6       0.97      0.89      0.93      1259\n",
      "           7       0.00      0.00      0.00         5\n",
      "           8       0.61      0.13      0.22       104\n",
      "\n",
      "    accuracy                           0.82     22285\n",
      "   macro avg       0.57      0.50      0.52     22285\n",
      "weighted avg       0.82      0.82      0.82     22285\n",
      "\n",
      "[[10741   498   154     0   148    14     0     1]\n",
      " [  672  2412   961     0    74    12     0     4]\n",
      " [  112   787  3367     0    26     3     0     4]\n",
      " [    1     2     0     0     0     0     0     0]\n",
      " [   69    74   140     0   640     1     0     0]\n",
      " [   85    22    31     0     5  1116     0     0]\n",
      " [    5     0     0     0     0     0     0     0]\n",
      " [   38    11    40     0     1     0     0    14]]\n"
     ]
    },
    {
     "name": "stderr",
     "output_type": "stream",
     "text": [
      "H:\\Anaconda3\\lib\\site-packages\\sklearn\\metrics\\_classification.py:1221: UndefinedMetricWarning: Precision and F-score are ill-defined and being set to 0.0 in labels with no predicted samples. Use `zero_division` parameter to control this behavior.\n",
      "  _warn_prf(average, modifier, msg_start, len(result))\n",
      "H:\\Anaconda3\\lib\\site-packages\\sklearn\\metrics\\_classification.py:1221: UndefinedMetricWarning: Precision and F-score are ill-defined and being set to 0.0 in labels with no predicted samples. Use `zero_division` parameter to control this behavior.\n",
      "  _warn_prf(average, modifier, msg_start, len(result))\n",
      "H:\\Anaconda3\\lib\\site-packages\\sklearn\\metrics\\_classification.py:1221: UndefinedMetricWarning: Precision and F-score are ill-defined and being set to 0.0 in labels with no predicted samples. Use `zero_division` parameter to control this behavior.\n",
      "  _warn_prf(average, modifier, msg_start, len(result))\n"
     ]
    }
   ],
   "source": [
    "xgb_pred = clf.predict(X_test_1)\n",
    "xgb_score = clf.score(X_test_1, y_test_1)\n",
    "#xgb_ovo_pred_prob = dtc_ovo.predict_proba(X_test)\n",
    "\n",
    "print(\"The XGB: Score on test Data: {:.4f}\".format(xgb_score))\n",
    "print(classification_report(y_test_1, xgb_pred, zero_division=0)) \n",
    "print(confusion_matrix(y_test_1, xgb_pred)) "
   ]
  },
  {
   "cell_type": "markdown",
   "metadata": {},
   "source": [
    "#### Random Forest"
   ]
  },
  {
   "cell_type": "code",
   "execution_count": 86,
   "metadata": {
    "ExecuteTime": {
     "end_time": "2020-11-29T18:20:12.110812Z",
     "start_time": "2020-11-29T18:20:02.342229Z"
    }
   },
   "outputs": [
    {
     "data": {
      "text/plain": [
       "RandomForestClassifier(random_state=42)"
      ]
     },
     "execution_count": 86,
     "metadata": {},
     "output_type": "execute_result"
    }
   ],
   "source": [
    "clf = RandomForestClassifier(random_state=42)\n",
    "\n",
    "clf.fit(X_train_1, y_train_1)"
   ]
  },
  {
   "cell_type": "code",
   "execution_count": 87,
   "metadata": {
    "ExecuteTime": {
     "end_time": "2020-11-29T18:20:14.230589Z",
     "start_time": "2020-11-29T18:20:12.112810Z"
    }
   },
   "outputs": [
    {
     "name": "stdout",
     "output_type": "stream",
     "text": [
      "The RFC: Score on test Data: 0.8083\n",
      "              precision    recall  f1-score   support\n",
      "\n",
      "           1       0.90      0.94      0.92     11556\n",
      "           2       0.63      0.51      0.56      4135\n",
      "           3       0.68      0.79      0.73      4299\n",
      "           4       0.00      0.00      0.00         3\n",
      "           5       0.74      0.66      0.70       924\n",
      "           6       0.97      0.85      0.91      1259\n",
      "           7       0.00      0.00      0.00         5\n",
      "           8       0.00      0.00      0.00       104\n",
      "\n",
      "    accuracy                           0.81     22285\n",
      "   macro avg       0.49      0.47      0.48     22285\n",
      "weighted avg       0.80      0.81      0.80     22285\n",
      "\n",
      "[[10833   390   186     0   139     8     0     0]\n",
      " [  863  2112  1093     0    51    16     0     0]\n",
      " [  145   747  3388     0    14     5     0     0]\n",
      " [    1     2     0     0     0     0     0     0]\n",
      " [   44    84   184     0   611     1     0     0]\n",
      " [  108    25    48     0     9  1069     0     0]\n",
      " [    5     0     0     0     0     0     0     0]\n",
      " [   44     7    53     0     0     0     0     0]]\n"
     ]
    },
    {
     "name": "stderr",
     "output_type": "stream",
     "text": [
      "H:\\Anaconda3\\lib\\site-packages\\sklearn\\metrics\\_classification.py:1221: UndefinedMetricWarning: Precision and F-score are ill-defined and being set to 0.0 in labels with no predicted samples. Use `zero_division` parameter to control this behavior.\n",
      "  _warn_prf(average, modifier, msg_start, len(result))\n",
      "H:\\Anaconda3\\lib\\site-packages\\sklearn\\metrics\\_classification.py:1221: UndefinedMetricWarning: Precision and F-score are ill-defined and being set to 0.0 in labels with no predicted samples. Use `zero_division` parameter to control this behavior.\n",
      "  _warn_prf(average, modifier, msg_start, len(result))\n",
      "H:\\Anaconda3\\lib\\site-packages\\sklearn\\metrics\\_classification.py:1221: UndefinedMetricWarning: Precision and F-score are ill-defined and being set to 0.0 in labels with no predicted samples. Use `zero_division` parameter to control this behavior.\n",
      "  _warn_prf(average, modifier, msg_start, len(result))\n"
     ]
    }
   ],
   "source": [
    "rfc_pred = clf.predict(X_test_1)\n",
    "rfc_score = clf.score(X_test_1, y_test_1)\n",
    "\n",
    "print(\"The RFC: Score on test Data: {:.4f}\".format(rfc_score))\n",
    "print(classification_report(y_test_1, rfc_pred, zero_division=0)) \n",
    "print(confusion_matrix(y_test_1, rfc_pred)) "
   ]
  },
  {
   "cell_type": "markdown",
   "metadata": {},
   "source": [
    "#### Additional test"
   ]
  },
  {
   "cell_type": "code",
   "execution_count": 88,
   "metadata": {
    "ExecuteTime": {
     "end_time": "2020-11-29T18:22:45.511639Z",
     "start_time": "2020-11-29T18:22:45.489669Z"
    }
   },
   "outputs": [],
   "source": [
    "X1 = df1.drop('admission_type_id', axis=1)\n",
    "y1 = df1['admission_type_id']\n",
    "scoring = ['precision', 'recall', 'f1', 'accuracy']"
   ]
  },
  {
   "cell_type": "code",
   "execution_count": 89,
   "metadata": {
    "ExecuteTime": {
     "end_time": "2020-11-29T18:22:53.509484Z",
     "start_time": "2020-11-29T18:22:53.292284Z"
    }
   },
   "outputs": [],
   "source": [
    "sc = StandardScaler()\n",
    "\n",
    "X_train1, X_test1, y_train1, y_test1 = train_test_split(X1, y1, test_size=0.333333, random_state=42)\n",
    "\n",
    "\n",
    "X_train1 = sc.fit_transform(X_train1)\n",
    "X_test1 = sc.transform(X_test1)"
   ]
  },
  {
   "cell_type": "markdown",
   "metadata": {},
   "source": [
    "##### Random Forest"
   ]
  },
  {
   "cell_type": "code",
   "execution_count": 90,
   "metadata": {
    "ExecuteTime": {
     "end_time": "2020-11-29T18:23:06.371550Z",
     "start_time": "2020-11-29T18:22:56.306351Z"
    }
   },
   "outputs": [
    {
     "data": {
      "text/plain": [
       "RandomForestClassifier(random_state=42)"
      ]
     },
     "execution_count": 90,
     "metadata": {},
     "output_type": "execute_result"
    }
   ],
   "source": [
    "clf = RandomForestClassifier(random_state=42)\n",
    "\n",
    "clf.fit(X_train1, y_train1)"
   ]
  },
  {
   "cell_type": "code",
   "execution_count": 92,
   "metadata": {
    "ExecuteTime": {
     "end_time": "2020-11-29T18:24:58.617128Z",
     "start_time": "2020-11-29T18:24:56.341424Z"
    }
   },
   "outputs": [
    {
     "name": "stdout",
     "output_type": "stream",
     "text": [
      "The RFC: Score on test Data: 0.8083\n",
      "              precision    recall  f1-score   support\n",
      "\n",
      "           1       0.90      0.94      0.92     11556\n",
      "           2       0.63      0.51      0.56      4135\n",
      "           3       0.68      0.79      0.73      4299\n",
      "           4       0.00      0.00      0.00         3\n",
      "           5       0.74      0.66      0.70       924\n",
      "           6       0.97      0.85      0.91      1259\n",
      "           7       0.00      0.00      0.00         5\n",
      "           8       0.00      0.00      0.00       104\n",
      "\n",
      "    accuracy                           0.81     22285\n",
      "   macro avg       0.49      0.47      0.48     22285\n",
      "weighted avg       0.80      0.81      0.80     22285\n",
      "\n",
      "[[10833   390   186     0   139     8     0     0]\n",
      " [  863  2112  1093     0    51    16     0     0]\n",
      " [  145   747  3388     0    14     5     0     0]\n",
      " [    1     2     0     0     0     0     0     0]\n",
      " [   44    84   184     0   611     1     0     0]\n",
      " [  108    25    48     0     9  1069     0     0]\n",
      " [    5     0     0     0     0     0     0     0]\n",
      " [   44     7    53     0     0     0     0     0]]\n"
     ]
    }
   ],
   "source": [
    "rfc_pred1 = clf.predict(X_test1)\n",
    "rfc_score1 = clf.score(X_test1, y_test1)\n",
    "\n",
    "print(\"The RFC: Score on test Data: {:.4f}\".format(rfc_score1))\n",
    "print(classification_report(y_test1, rfc_pred1, zero_division=0)) \n",
    "print(confusion_matrix(y_test1, rfc_pred1)) "
   ]
  },
  {
   "cell_type": "markdown",
   "metadata": {},
   "source": [
    "# Part B"
   ]
  },
  {
   "cell_type": "markdown",
   "metadata": {},
   "source": [
    "### Imports"
   ]
  },
  {
   "cell_type": "code",
   "execution_count": 81,
   "metadata": {
    "ExecuteTime": {
     "end_time": "2020-11-29T19:06:28.301809Z",
     "start_time": "2020-11-29T19:06:28.296794Z"
    }
   },
   "outputs": [],
   "source": [
    "from sklearn.semi_supervised import LabelSpreading, LabelPropagation"
   ]
  },
  {
   "cell_type": "markdown",
   "metadata": {},
   "source": [
    "### Algorithms"
   ]
  },
  {
   "cell_type": "code",
   "execution_count": 82,
   "metadata": {
    "ExecuteTime": {
     "end_time": "2020-11-29T19:06:28.904736Z",
     "start_time": "2020-11-29T19:06:28.884763Z"
    }
   },
   "outputs": [],
   "source": [
    "X = df.drop('readmitted', axis=1)\n",
    "y = df['readmitted']\n",
    "scoring = ['precision', 'recall', 'f1', 'accuracy']"
   ]
  },
  {
   "cell_type": "code",
   "execution_count": 83,
   "metadata": {
    "ExecuteTime": {
     "end_time": "2020-11-29T19:06:30.409945Z",
     "start_time": "2020-11-29T19:06:29.630320Z"
    },
    "code_folding": []
   },
   "outputs": [],
   "source": [
    "# Generate indices for splits\n",
    "sc = StandardScaler()\n",
    "\n",
    "\n",
    "\n",
    "train_ind_10 = round(len(df)*0.90)\n",
    "unlabeled_ind_10 = train_ind_10 + round(len(df)*0.10)\n",
    "\n",
    "train_ind_20 = round(len(df)*0.80)\n",
    "unlabeled_ind_20 = train_ind_20 + round(len(df)*0.20)\n",
    "\n",
    "train_ind_50 = round(len(df)*0.50)\n",
    "unlabeled_ind_50 = train_ind_50 + round(len(df)*0.50)\n",
    "\n",
    "\n",
    "train_ind_90 = round(len(df)*0.10)\n",
    "unlabeled_ind_90 = train_ind_90 + round(len(df)*0.90)\n",
    "\n",
    "\n",
    "train_ind_95 = round(len(df)*0.05)\n",
    "unlabeled_ind_95 = train_ind_95 + round(len(df)*0.95)\n",
    "\n",
    "\n",
    "# Partition the data\n",
    "\n",
    "train_10 = df.iloc[:train_ind_10]\n",
    "unlabeled_10 = df.iloc[train_ind_10:unlabeled_ind_10]\n",
    "\n",
    "train_20 = df.iloc[:train_ind_20]\n",
    "unlabeled_20 = df.iloc[train_ind_20:unlabeled_ind_20]\n",
    "\n",
    "train_50 = df.iloc[:train_ind_50]\n",
    "unlabeled_50 = df.iloc[train_ind_50:unlabeled_ind_50]\n",
    "\n",
    "train_90 = df.iloc[:train_ind_90]\n",
    "unlabeled_90 = df.iloc[train_ind_90:unlabeled_ind_90]\n",
    "\n",
    "train_95 = df.iloc[:train_ind_95]\n",
    "unlabeled_95 = df.iloc[train_ind_95:unlabeled_ind_95]\n",
    "\n",
    "\n",
    "# Assign data to train, test, and unlabeled sets\n",
    "\n",
    "X_10 = train_10.drop('readmitted', axis=1)\n",
    "y_10 = train_10.readmitted\n",
    "\n",
    "X_20 = train_20.drop('readmitted', axis=1)\n",
    "y_20 = train_20.readmitted\n",
    "\n",
    "X_50 = train_50.drop('readmitted', axis=1)\n",
    "y_50 = train_50.readmitted\n",
    "\n",
    "X_90 = train_90.drop('readmitted', axis=1)\n",
    "y_90 = train_90.readmitted\n",
    "\n",
    "X_95 = train_95.drop('readmitted', axis=1)\n",
    "y_95 = train_95.readmitted\n",
    "\n",
    "X_train_10, X_test_10, y_train_10, y_test_10 = train_test_split(X_10, y_10, test_size=0.333333, random_state=42)\n",
    "X_train_20, X_test_20, y_train_20, y_test_20 = train_test_split(X_20, y_20, test_size=0.333333, random_state=42)\n",
    "X_train_50, X_test_50, y_train_50, y_test_50 = train_test_split(X_50, y_50, test_size=0.333333, random_state=42)\n",
    "X_train_90, X_test_90, y_train_90, y_test_90 = train_test_split(X_90, y_90, test_size=0.333333, random_state=42)\n",
    "X_train_95, X_test_95, y_train_95, y_test_95 = train_test_split(X_95, y_95, test_size=0.333333, random_state=42)\n",
    "\n",
    "X_train_10 = sc.fit_transform(X_train_10)\n",
    "X_test_10 = sc.transform(X_test_10)\n",
    "X_unlabeled_10 = sc.transform(unlabeled_10.drop('readmitted', axis=1))\n",
    "\n",
    "X_train_20 = sc.fit_transform(X_train_20)\n",
    "X_test_20 = sc.transform(X_test_20)\n",
    "X_unlabeled_20 = sc.transform(unlabeled_20.drop('readmitted', axis=1))\n",
    "\n",
    "X_train_50 = sc.fit_transform(X_train_50)\n",
    "X_test_50 = sc.transform(X_test_50)\n",
    "X_unlabeled_50 = sc.transform(unlabeled_50.drop('readmitted', axis=1))\n",
    "\n",
    "X_train_90 = sc.fit_transform(X_train_90)\n",
    "X_test_90 = sc.transform(X_test_90)\n",
    "X_unlabeled_90 = sc.transform(unlabeled_90.drop('readmitted', axis=1))\n",
    "\n",
    "X_train_95 = sc.fit_transform(X_train_95)\n",
    "X_test_95 = sc.transform(X_test_95)\n",
    "X_unlabeled_95 = sc.transform(unlabeled_95.drop('readmitted', axis=1))"
   ]
  },
  {
   "cell_type": "code",
   "execution_count": 84,
   "metadata": {
    "ExecuteTime": {
     "end_time": "2020-11-29T19:06:30.457876Z",
     "start_time": "2020-11-29T19:06:30.437901Z"
    }
   },
   "outputs": [
    {
     "name": "stdout",
     "output_type": "stream",
     "text": [
      "X_train_10 dimensions: (40113, 45)\n",
      "y_train_10 dimensions: (40113,)\n",
      "\n",
      "X_test_10 dimensions: (20057, 45)\n",
      "y_test_10 dimensions: (20057,)\n",
      "\n",
      "X_unlabeled_10 dimensions: (6685, 45)\n",
      "\n",
      "X_train_20 dimensions: (35656, 45)\n",
      "y_train_20 dimensions: (35656,)\n",
      "\n",
      "X_test_20 dimensions: (17828, 45)\n",
      "y_test_20 dimensions: (17828,)\n",
      "\n",
      "X_unlabeled_20 dimensions: (13371, 45)\n",
      "\n",
      "X_train_50 dimensions: (22285, 45)\n",
      "y_train_50 dimensions: (22285,)\n",
      "\n",
      "X_test_50 dimensions: (11143, 45)\n",
      "y_test_50 dimensions: (11143,)\n",
      "\n",
      "X_unlabeled_50 dimensions: (33427, 45)\n",
      "\n",
      "X_train_90 dimensions: (4457, 45)\n",
      "y_train_90 dimensions: (4457,)\n",
      "\n",
      "X_test_90 dimensions: (2229, 45)\n",
      "y_test_90 dimensions: (2229,)\n",
      "\n",
      "X_unlabeled_90 dimensions: (60169, 45)\n",
      "\n",
      "X_train_95 dimensions: (2228, 45)\n",
      "y_train_95 dimensions: (2228,)\n",
      "\n",
      "X_test_95 dimensions: (1115, 45)\n",
      "y_test_95 dimensions: (1115,)\n",
      "\n",
      "X_unlabeled_95 dimensions: (63512, 45)\n",
      "\n"
     ]
    }
   ],
   "source": [
    "# Check dimensions of data after splitting\n",
    "print(f\"X_train_10 dimensions: {X_train_10.shape}\")\n",
    "print(f\"y_train_10 dimensions: {y_train_10.shape}\\n\")\n",
    "\n",
    "print(f\"X_test_10 dimensions: {X_test_10.shape}\")\n",
    "print(f\"y_test_10 dimensions: {y_test_10.shape}\\n\")\n",
    "\n",
    "print(f\"X_unlabeled_10 dimensions: {X_unlabeled_10.shape}\\n\")\n",
    "\n",
    "print(f\"X_train_20 dimensions: {X_train_20.shape}\")\n",
    "print(f\"y_train_20 dimensions: {y_train_20.shape}\\n\")\n",
    "\n",
    "print(f\"X_test_20 dimensions: {X_test_20.shape}\")\n",
    "print(f\"y_test_20 dimensions: {y_test_20.shape}\\n\")\n",
    "\n",
    "print(f\"X_unlabeled_20 dimensions: {X_unlabeled_20.shape}\\n\")\n",
    "\n",
    "print(f\"X_train_50 dimensions: {X_train_50.shape}\")\n",
    "print(f\"y_train_50 dimensions: {y_train_50.shape}\\n\")\n",
    "\n",
    "print(f\"X_test_50 dimensions: {X_test_50.shape}\")\n",
    "print(f\"y_test_50 dimensions: {y_test_50.shape}\\n\")\n",
    "\n",
    "print(f\"X_unlabeled_50 dimensions: {X_unlabeled_50.shape}\\n\")\n",
    "\n",
    "print(f\"X_train_90 dimensions: {X_train_90.shape}\")\n",
    "print(f\"y_train_90 dimensions: {y_train_90.shape}\\n\")\n",
    "\n",
    "print(f\"X_test_90 dimensions: {X_test_90.shape}\")\n",
    "print(f\"y_test_90 dimensions: {y_test_90.shape}\\n\")\n",
    "\n",
    "print(f\"X_unlabeled_90 dimensions: {X_unlabeled_90.shape}\\n\")\n",
    "\n",
    "print(f\"X_train_95 dimensions: {X_train_95.shape}\")\n",
    "print(f\"y_train_95 dimensions: {y_train_95.shape}\\n\")\n",
    "\n",
    "print(f\"X_test_95 dimensions: {X_test_95.shape}\")\n",
    "print(f\"y_test_95 dimensions: {y_test_95.shape}\\n\")\n",
    "\n",
    "print(f\"X_unlabeled_95 dimensions: {X_unlabeled_95.shape}\\n\")"
   ]
  },
  {
   "cell_type": "markdown",
   "metadata": {},
   "source": [
    "#### Self-training"
   ]
  },
  {
   "cell_type": "code",
   "execution_count": 87,
   "metadata": {
    "ExecuteTime": {
     "end_time": "2020-11-29T19:12:07.225479Z",
     "start_time": "2020-11-29T19:12:06.864690Z"
    }
   },
   "outputs": [
    {
     "name": "stdout",
     "output_type": "stream",
     "text": [
      "Iteration 0\n",
      "Train f1: 0.9130488020571149\n",
      "Test f1: 0.9101718025634034\n",
      "Now predicting labels for unlabeled data...\n",
      "3 high-probability predictions added to training data.\n"
     ]
    },
    {
     "ename": "AttributeError",
     "evalue": "'numpy.ndarray' object has no attribute 'loc'",
     "output_type": "error",
     "traceback": [
      "\u001b[1;31m---------------------------------------------------------------------------\u001b[0m",
      "\u001b[1;31mAttributeError\u001b[0m                            Traceback (most recent call last)",
      "\u001b[1;32m<ipython-input-87-bd122c00748c>\u001b[0m in \u001b[0;36m<module>\u001b[1;34m()\u001b[0m\n\u001b[0;32m     53\u001b[0m \u001b[1;33m\u001b[0m\u001b[0m\n\u001b[0;32m     54\u001b[0m     \u001b[1;31m# Add pseudo-labeled data to training data\u001b[0m\u001b[1;33m\u001b[0m\u001b[1;33m\u001b[0m\u001b[0m\n\u001b[1;32m---> 55\u001b[1;33m     \u001b[0mX_train_10\u001b[0m \u001b[1;33m=\u001b[0m \u001b[0mpd\u001b[0m\u001b[1;33m.\u001b[0m\u001b[0mconcat\u001b[0m\u001b[1;33m(\u001b[0m\u001b[1;33m[\u001b[0m\u001b[0mX_train_10\u001b[0m\u001b[1;33m,\u001b[0m \u001b[0mX_unlabeled_10\u001b[0m\u001b[1;33m.\u001b[0m\u001b[0mloc\u001b[0m\u001b[1;33m[\u001b[0m\u001b[0mhigh_prob\u001b[0m\u001b[1;33m.\u001b[0m\u001b[0mindex\u001b[0m\u001b[1;33m]\u001b[0m\u001b[1;33m]\u001b[0m\u001b[1;33m,\u001b[0m \u001b[0maxis\u001b[0m\u001b[1;33m=\u001b[0m\u001b[1;36m0\u001b[0m\u001b[1;33m)\u001b[0m\u001b[1;33m\u001b[0m\u001b[0m\n\u001b[0m\u001b[0;32m     56\u001b[0m     \u001b[0my_train_10\u001b[0m \u001b[1;33m=\u001b[0m \u001b[0mpd\u001b[0m\u001b[1;33m.\u001b[0m\u001b[0mconcat\u001b[0m\u001b[1;33m(\u001b[0m\u001b[1;33m[\u001b[0m\u001b[0my_train_10\u001b[0m\u001b[1;33m,\u001b[0m \u001b[0mhigh_prob\u001b[0m\u001b[1;33m.\u001b[0m\u001b[0mpreds\u001b[0m\u001b[1;33m]\u001b[0m\u001b[1;33m)\u001b[0m\u001b[1;33m\u001b[0m\u001b[0m\n\u001b[0;32m     57\u001b[0m \u001b[1;33m\u001b[0m\u001b[0m\n",
      "\u001b[1;31mAttributeError\u001b[0m: 'numpy.ndarray' object has no attribute 'loc'"
     ]
    }
   ],
   "source": [
    "# Initiate iteration counter\n",
    "iterations = 0\n",
    "\n",
    "# Containers to hold f1_scores and # of pseudo-labels\n",
    "train_f1s = []\n",
    "test_f1s = []\n",
    "pseudo_labels = []\n",
    "\n",
    "# Assign value to initiate while loop\n",
    "high_prob = [1] \n",
    "\n",
    "# Loop will run until there are no more high-probability pseudo-labels\n",
    "while len(high_prob) > 0:\n",
    "        \n",
    "    # Fit classifier and make train/test predictions\n",
    "    clf = LogisticRegression(max_iter=1000)\n",
    "    clf.fit(X_train_10, y_train_10)\n",
    "    y_hat_train = clf.predict(X_train_10)\n",
    "    y_hat_test = clf.predict(X_test_10)\n",
    "\n",
    "    # Calculate and print iteration # and f1 scores, and store f1 scores\n",
    "    train_f1 = f1_score(y_train_10, y_hat_train)\n",
    "    test_f1 = f1_score(y_test_10, y_hat_test)\n",
    "    print(f\"Iteration {iterations}\")\n",
    "    print(f\"Train f1: {train_f1}\")\n",
    "    print(f\"Test f1: {test_f1}\")\n",
    "    train_f1s.append(train_f1)\n",
    "    test_f1s.append(test_f1)\n",
    "   \n",
    "    # Generate predictions and probabilities for unlabeled data\n",
    "    print(f\"Now predicting labels for unlabeled data...\")\n",
    "\n",
    "    pred_probs = clf.predict_proba(X_unlabeled_10)\n",
    "    preds = clf.predict(X_unlabeled_10)\n",
    "    prob_0 = pred_probs[:,0]\n",
    "    prob_1 = pred_probs[:,1]\n",
    "\n",
    "    # Store predictions and probabilities in dataframe\n",
    "    df_pred_prob = pd.DataFrame([])\n",
    "    df_pred_prob['preds'] = preds\n",
    "    df_pred_prob['prob_0'] = prob_0\n",
    "    df_pred_prob['prob_1'] = prob_1\n",
    "    #df_pred_prob.index = X_unlabeled_10.index\n",
    "    \n",
    "    # Separate predictions with > 99% probability\n",
    "    high_prob = pd.concat([df_pred_prob.loc[df_pred_prob['prob_0'] > 0.99],\n",
    "                           df_pred_prob.loc[df_pred_prob['prob_1'] > 0.99]],\n",
    "                          axis=0)\n",
    "    \n",
    "    print(f\"{len(high_prob)} high-probability predictions added to training data.\")\n",
    "    \n",
    "    pseudo_labels.append(len(high_prob))\n",
    "\n",
    "    # Add pseudo-labeled data to training data\n",
    "    X_train_10 = pd.concat([X_train_10, X_unlabeled_10.loc[high_prob.index]], axis=0)\n",
    "    y_train_10 = pd.concat([y_train_10, high_prob.preds])      \n",
    "    \n",
    "    # Drop pseudo-labeled instances from unlabeled data\n",
    "    X_unlabeled_10 = X_unlabeled_10.drop(index=high_prob.index)\n",
    "    print(f\"{len(X_unlabeled)} unlabeled instances remaining.\\n\")\n",
    "    \n",
    "    # Update iteration counter\n",
    "    iterations += 1"
   ]
  },
  {
   "cell_type": "code",
   "execution_count": null,
   "metadata": {},
   "outputs": [],
   "source": []
  }
 ],
 "metadata": {
  "kernelspec": {
   "display_name": "Python 3",
   "language": "python",
   "name": "python3"
  },
  "language_info": {
   "codemirror_mode": {
    "name": "ipython",
    "version": 3
   },
   "file_extension": ".py",
   "mimetype": "text/x-python",
   "name": "python",
   "nbconvert_exporter": "python",
   "pygments_lexer": "ipython3",
   "version": "3.6.5"
  },
  "toc": {
   "base_numbering": 1,
   "nav_menu": {},
   "number_sections": true,
   "sideBar": true,
   "skip_h1_title": false,
   "title_cell": "Table of Contents",
   "title_sidebar": "Contents",
   "toc_cell": false,
   "toc_position": {
    "height": "calc(100% - 180px)",
    "left": "10px",
    "top": "150px",
    "width": "222px"
   },
   "toc_section_display": true,
   "toc_window_display": true
  }
 },
 "nbformat": 4,
 "nbformat_minor": 2
}
